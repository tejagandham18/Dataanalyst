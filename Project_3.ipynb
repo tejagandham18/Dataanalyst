{
  "nbformat": 4,
  "nbformat_minor": 0,
  "metadata": {
    "colab": {
      "provenance": [],
      "authorship_tag": "ABX9TyOGNiJ81g860i5WlQSXkbrU",
      "include_colab_link": true
    },
    "kernelspec": {
      "name": "python3",
      "display_name": "Python 3"
    },
    "language_info": {
      "name": "python"
    }
  },
  "cells": [
    {
      "cell_type": "markdown",
      "metadata": {
        "id": "view-in-github",
        "colab_type": "text"
      },
      "source": [
        "<a href=\"https://colab.research.google.com/github/tejagandham18/Dataanalyst/blob/main/Project_3.ipynb\" target=\"_parent\"><img src=\"https://colab.research.google.com/assets/colab-badge.svg\" alt=\"Open In Colab\"/></a>"
      ]
    },
    {
      "cell_type": "code",
      "execution_count": null,
      "metadata": {
        "colab": {
          "base_uri": "https://localhost:8080/"
        },
        "id": "MeUYI8yA_RPx",
        "outputId": "3916748a-79a8-42c8-c26d-cf91eee35f71"
      },
      "outputs": [
        {
          "output_type": "stream",
          "name": "stdout",
          "text": [
            "Collecting opendatasets\n",
            "  Downloading opendatasets-0.1.22-py3-none-any.whl.metadata (9.2 kB)\n",
            "Requirement already satisfied: tqdm in /usr/local/lib/python3.11/dist-packages (from opendatasets) (4.67.1)\n",
            "Requirement already satisfied: kaggle in /usr/local/lib/python3.11/dist-packages (from opendatasets) (1.6.17)\n",
            "Requirement already satisfied: click in /usr/local/lib/python3.11/dist-packages (from opendatasets) (8.1.8)\n",
            "Requirement already satisfied: six>=1.10 in /usr/local/lib/python3.11/dist-packages (from kaggle->opendatasets) (1.17.0)\n",
            "Requirement already satisfied: certifi>=2023.7.22 in /usr/local/lib/python3.11/dist-packages (from kaggle->opendatasets) (2024.12.14)\n",
            "Requirement already satisfied: python-dateutil in /usr/local/lib/python3.11/dist-packages (from kaggle->opendatasets) (2.8.2)\n",
            "Requirement already satisfied: requests in /usr/local/lib/python3.11/dist-packages (from kaggle->opendatasets) (2.32.3)\n",
            "Requirement already satisfied: python-slugify in /usr/local/lib/python3.11/dist-packages (from kaggle->opendatasets) (8.0.4)\n",
            "Requirement already satisfied: urllib3 in /usr/local/lib/python3.11/dist-packages (from kaggle->opendatasets) (2.3.0)\n",
            "Requirement already satisfied: bleach in /usr/local/lib/python3.11/dist-packages (from kaggle->opendatasets) (6.2.0)\n",
            "Requirement already satisfied: webencodings in /usr/local/lib/python3.11/dist-packages (from bleach->kaggle->opendatasets) (0.5.1)\n",
            "Requirement already satisfied: text-unidecode>=1.3 in /usr/local/lib/python3.11/dist-packages (from python-slugify->kaggle->opendatasets) (1.3)\n",
            "Requirement already satisfied: charset-normalizer<4,>=2 in /usr/local/lib/python3.11/dist-packages (from requests->kaggle->opendatasets) (3.4.1)\n",
            "Requirement already satisfied: idna<4,>=2.5 in /usr/local/lib/python3.11/dist-packages (from requests->kaggle->opendatasets) (3.10)\n",
            "Downloading opendatasets-0.1.22-py3-none-any.whl (15 kB)\n",
            "Installing collected packages: opendatasets\n",
            "Successfully installed opendatasets-0.1.22\n"
          ]
        }
      ],
      "source": [
        "!pip install opendatasets"
      ]
    },
    {
      "cell_type": "markdown",
      "source": [
        "# ASSIGNMENT TASKS\n",
        "**1.Data Loading and Inspection**\n",
        "\n",
        "a) Load the dataset into a Pandas DataFrame."
      ],
      "metadata": {
        "id": "MB5Hcqy8BxPq"
      }
    },
    {
      "cell_type": "code",
      "source": [
        "import pandas as pd\n",
        "data = pd.read_csv(\"/content/retail_sales_dataset.csv\")\n",
        "data"
      ],
      "metadata": {
        "colab": {
          "base_uri": "https://localhost:8080/",
          "height": 424
        },
        "id": "g95s9RyMATEH",
        "outputId": "4f900511-d2e5-4922-f7c3-292ffbfda4df"
      },
      "execution_count": null,
      "outputs": [
        {
          "output_type": "execute_result",
          "data": {
            "text/plain": [
              "     Transaction ID        Date Customer ID  Gender  Age Product Category  \\\n",
              "0                 1  2023-11-24     CUST001    Male   34           Beauty   \n",
              "1                 2  2023-02-27     CUST002  Female   26         Clothing   \n",
              "2                 3  2023-01-13     CUST003    Male   50      Electronics   \n",
              "3                 4  2023-05-21     CUST004    Male   37         Clothing   \n",
              "4                 5  2023-05-06     CUST005    Male   30           Beauty   \n",
              "..              ...         ...         ...     ...  ...              ...   \n",
              "995             996  2023-05-16     CUST996    Male   62         Clothing   \n",
              "996             997  2023-11-17     CUST997    Male   52           Beauty   \n",
              "997             998  2023-10-29     CUST998  Female   23           Beauty   \n",
              "998             999  2023-12-05     CUST999  Female   36      Electronics   \n",
              "999            1000  2023-04-12    CUST1000    Male   47      Electronics   \n",
              "\n",
              "     Quantity  Price per Unit  Total Amount  \n",
              "0           3              50           150  \n",
              "1           2             500          1000  \n",
              "2           1              30            30  \n",
              "3           1             500           500  \n",
              "4           2              50           100  \n",
              "..        ...             ...           ...  \n",
              "995         1              50            50  \n",
              "996         3              30            90  \n",
              "997         4              25           100  \n",
              "998         3              50           150  \n",
              "999         4              30           120  \n",
              "\n",
              "[1000 rows x 9 columns]"
            ],
            "text/html": [
              "\n",
              "  <div id=\"df-e07bd83f-fddf-48a5-aef4-48fe366609b4\" class=\"colab-df-container\">\n",
              "    <div>\n",
              "<style scoped>\n",
              "    .dataframe tbody tr th:only-of-type {\n",
              "        vertical-align: middle;\n",
              "    }\n",
              "\n",
              "    .dataframe tbody tr th {\n",
              "        vertical-align: top;\n",
              "    }\n",
              "\n",
              "    .dataframe thead th {\n",
              "        text-align: right;\n",
              "    }\n",
              "</style>\n",
              "<table border=\"1\" class=\"dataframe\">\n",
              "  <thead>\n",
              "    <tr style=\"text-align: right;\">\n",
              "      <th></th>\n",
              "      <th>Transaction ID</th>\n",
              "      <th>Date</th>\n",
              "      <th>Customer ID</th>\n",
              "      <th>Gender</th>\n",
              "      <th>Age</th>\n",
              "      <th>Product Category</th>\n",
              "      <th>Quantity</th>\n",
              "      <th>Price per Unit</th>\n",
              "      <th>Total Amount</th>\n",
              "    </tr>\n",
              "  </thead>\n",
              "  <tbody>\n",
              "    <tr>\n",
              "      <th>0</th>\n",
              "      <td>1</td>\n",
              "      <td>2023-11-24</td>\n",
              "      <td>CUST001</td>\n",
              "      <td>Male</td>\n",
              "      <td>34</td>\n",
              "      <td>Beauty</td>\n",
              "      <td>3</td>\n",
              "      <td>50</td>\n",
              "      <td>150</td>\n",
              "    </tr>\n",
              "    <tr>\n",
              "      <th>1</th>\n",
              "      <td>2</td>\n",
              "      <td>2023-02-27</td>\n",
              "      <td>CUST002</td>\n",
              "      <td>Female</td>\n",
              "      <td>26</td>\n",
              "      <td>Clothing</td>\n",
              "      <td>2</td>\n",
              "      <td>500</td>\n",
              "      <td>1000</td>\n",
              "    </tr>\n",
              "    <tr>\n",
              "      <th>2</th>\n",
              "      <td>3</td>\n",
              "      <td>2023-01-13</td>\n",
              "      <td>CUST003</td>\n",
              "      <td>Male</td>\n",
              "      <td>50</td>\n",
              "      <td>Electronics</td>\n",
              "      <td>1</td>\n",
              "      <td>30</td>\n",
              "      <td>30</td>\n",
              "    </tr>\n",
              "    <tr>\n",
              "      <th>3</th>\n",
              "      <td>4</td>\n",
              "      <td>2023-05-21</td>\n",
              "      <td>CUST004</td>\n",
              "      <td>Male</td>\n",
              "      <td>37</td>\n",
              "      <td>Clothing</td>\n",
              "      <td>1</td>\n",
              "      <td>500</td>\n",
              "      <td>500</td>\n",
              "    </tr>\n",
              "    <tr>\n",
              "      <th>4</th>\n",
              "      <td>5</td>\n",
              "      <td>2023-05-06</td>\n",
              "      <td>CUST005</td>\n",
              "      <td>Male</td>\n",
              "      <td>30</td>\n",
              "      <td>Beauty</td>\n",
              "      <td>2</td>\n",
              "      <td>50</td>\n",
              "      <td>100</td>\n",
              "    </tr>\n",
              "    <tr>\n",
              "      <th>...</th>\n",
              "      <td>...</td>\n",
              "      <td>...</td>\n",
              "      <td>...</td>\n",
              "      <td>...</td>\n",
              "      <td>...</td>\n",
              "      <td>...</td>\n",
              "      <td>...</td>\n",
              "      <td>...</td>\n",
              "      <td>...</td>\n",
              "    </tr>\n",
              "    <tr>\n",
              "      <th>995</th>\n",
              "      <td>996</td>\n",
              "      <td>2023-05-16</td>\n",
              "      <td>CUST996</td>\n",
              "      <td>Male</td>\n",
              "      <td>62</td>\n",
              "      <td>Clothing</td>\n",
              "      <td>1</td>\n",
              "      <td>50</td>\n",
              "      <td>50</td>\n",
              "    </tr>\n",
              "    <tr>\n",
              "      <th>996</th>\n",
              "      <td>997</td>\n",
              "      <td>2023-11-17</td>\n",
              "      <td>CUST997</td>\n",
              "      <td>Male</td>\n",
              "      <td>52</td>\n",
              "      <td>Beauty</td>\n",
              "      <td>3</td>\n",
              "      <td>30</td>\n",
              "      <td>90</td>\n",
              "    </tr>\n",
              "    <tr>\n",
              "      <th>997</th>\n",
              "      <td>998</td>\n",
              "      <td>2023-10-29</td>\n",
              "      <td>CUST998</td>\n",
              "      <td>Female</td>\n",
              "      <td>23</td>\n",
              "      <td>Beauty</td>\n",
              "      <td>4</td>\n",
              "      <td>25</td>\n",
              "      <td>100</td>\n",
              "    </tr>\n",
              "    <tr>\n",
              "      <th>998</th>\n",
              "      <td>999</td>\n",
              "      <td>2023-12-05</td>\n",
              "      <td>CUST999</td>\n",
              "      <td>Female</td>\n",
              "      <td>36</td>\n",
              "      <td>Electronics</td>\n",
              "      <td>3</td>\n",
              "      <td>50</td>\n",
              "      <td>150</td>\n",
              "    </tr>\n",
              "    <tr>\n",
              "      <th>999</th>\n",
              "      <td>1000</td>\n",
              "      <td>2023-04-12</td>\n",
              "      <td>CUST1000</td>\n",
              "      <td>Male</td>\n",
              "      <td>47</td>\n",
              "      <td>Electronics</td>\n",
              "      <td>4</td>\n",
              "      <td>30</td>\n",
              "      <td>120</td>\n",
              "    </tr>\n",
              "  </tbody>\n",
              "</table>\n",
              "<p>1000 rows × 9 columns</p>\n",
              "</div>\n",
              "    <div class=\"colab-df-buttons\">\n",
              "\n",
              "  <div class=\"colab-df-container\">\n",
              "    <button class=\"colab-df-convert\" onclick=\"convertToInteractive('df-e07bd83f-fddf-48a5-aef4-48fe366609b4')\"\n",
              "            title=\"Convert this dataframe to an interactive table.\"\n",
              "            style=\"display:none;\">\n",
              "\n",
              "  <svg xmlns=\"http://www.w3.org/2000/svg\" height=\"24px\" viewBox=\"0 -960 960 960\">\n",
              "    <path d=\"M120-120v-720h720v720H120Zm60-500h600v-160H180v160Zm220 220h160v-160H400v160Zm0 220h160v-160H400v160ZM180-400h160v-160H180v160Zm440 0h160v-160H620v160ZM180-180h160v-160H180v160Zm440 0h160v-160H620v160Z\"/>\n",
              "  </svg>\n",
              "    </button>\n",
              "\n",
              "  <style>\n",
              "    .colab-df-container {\n",
              "      display:flex;\n",
              "      gap: 12px;\n",
              "    }\n",
              "\n",
              "    .colab-df-convert {\n",
              "      background-color: #E8F0FE;\n",
              "      border: none;\n",
              "      border-radius: 50%;\n",
              "      cursor: pointer;\n",
              "      display: none;\n",
              "      fill: #1967D2;\n",
              "      height: 32px;\n",
              "      padding: 0 0 0 0;\n",
              "      width: 32px;\n",
              "    }\n",
              "\n",
              "    .colab-df-convert:hover {\n",
              "      background-color: #E2EBFA;\n",
              "      box-shadow: 0px 1px 2px rgba(60, 64, 67, 0.3), 0px 1px 3px 1px rgba(60, 64, 67, 0.15);\n",
              "      fill: #174EA6;\n",
              "    }\n",
              "\n",
              "    .colab-df-buttons div {\n",
              "      margin-bottom: 4px;\n",
              "    }\n",
              "\n",
              "    [theme=dark] .colab-df-convert {\n",
              "      background-color: #3B4455;\n",
              "      fill: #D2E3FC;\n",
              "    }\n",
              "\n",
              "    [theme=dark] .colab-df-convert:hover {\n",
              "      background-color: #434B5C;\n",
              "      box-shadow: 0px 1px 3px 1px rgba(0, 0, 0, 0.15);\n",
              "      filter: drop-shadow(0px 1px 2px rgba(0, 0, 0, 0.3));\n",
              "      fill: #FFFFFF;\n",
              "    }\n",
              "  </style>\n",
              "\n",
              "    <script>\n",
              "      const buttonEl =\n",
              "        document.querySelector('#df-e07bd83f-fddf-48a5-aef4-48fe366609b4 button.colab-df-convert');\n",
              "      buttonEl.style.display =\n",
              "        google.colab.kernel.accessAllowed ? 'block' : 'none';\n",
              "\n",
              "      async function convertToInteractive(key) {\n",
              "        const element = document.querySelector('#df-e07bd83f-fddf-48a5-aef4-48fe366609b4');\n",
              "        const dataTable =\n",
              "          await google.colab.kernel.invokeFunction('convertToInteractive',\n",
              "                                                    [key], {});\n",
              "        if (!dataTable) return;\n",
              "\n",
              "        const docLinkHtml = 'Like what you see? Visit the ' +\n",
              "          '<a target=\"_blank\" href=https://colab.research.google.com/notebooks/data_table.ipynb>data table notebook</a>'\n",
              "          + ' to learn more about interactive tables.';\n",
              "        element.innerHTML = '';\n",
              "        dataTable['output_type'] = 'display_data';\n",
              "        await google.colab.output.renderOutput(dataTable, element);\n",
              "        const docLink = document.createElement('div');\n",
              "        docLink.innerHTML = docLinkHtml;\n",
              "        element.appendChild(docLink);\n",
              "      }\n",
              "    </script>\n",
              "  </div>\n",
              "\n",
              "\n",
              "<div id=\"df-e0036f78-4d78-4c43-8d9b-e639b4dfc0d9\">\n",
              "  <button class=\"colab-df-quickchart\" onclick=\"quickchart('df-e0036f78-4d78-4c43-8d9b-e639b4dfc0d9')\"\n",
              "            title=\"Suggest charts\"\n",
              "            style=\"display:none;\">\n",
              "\n",
              "<svg xmlns=\"http://www.w3.org/2000/svg\" height=\"24px\"viewBox=\"0 0 24 24\"\n",
              "     width=\"24px\">\n",
              "    <g>\n",
              "        <path d=\"M19 3H5c-1.1 0-2 .9-2 2v14c0 1.1.9 2 2 2h14c1.1 0 2-.9 2-2V5c0-1.1-.9-2-2-2zM9 17H7v-7h2v7zm4 0h-2V7h2v10zm4 0h-2v-4h2v4z\"/>\n",
              "    </g>\n",
              "</svg>\n",
              "  </button>\n",
              "\n",
              "<style>\n",
              "  .colab-df-quickchart {\n",
              "      --bg-color: #E8F0FE;\n",
              "      --fill-color: #1967D2;\n",
              "      --hover-bg-color: #E2EBFA;\n",
              "      --hover-fill-color: #174EA6;\n",
              "      --disabled-fill-color: #AAA;\n",
              "      --disabled-bg-color: #DDD;\n",
              "  }\n",
              "\n",
              "  [theme=dark] .colab-df-quickchart {\n",
              "      --bg-color: #3B4455;\n",
              "      --fill-color: #D2E3FC;\n",
              "      --hover-bg-color: #434B5C;\n",
              "      --hover-fill-color: #FFFFFF;\n",
              "      --disabled-bg-color: #3B4455;\n",
              "      --disabled-fill-color: #666;\n",
              "  }\n",
              "\n",
              "  .colab-df-quickchart {\n",
              "    background-color: var(--bg-color);\n",
              "    border: none;\n",
              "    border-radius: 50%;\n",
              "    cursor: pointer;\n",
              "    display: none;\n",
              "    fill: var(--fill-color);\n",
              "    height: 32px;\n",
              "    padding: 0;\n",
              "    width: 32px;\n",
              "  }\n",
              "\n",
              "  .colab-df-quickchart:hover {\n",
              "    background-color: var(--hover-bg-color);\n",
              "    box-shadow: 0 1px 2px rgba(60, 64, 67, 0.3), 0 1px 3px 1px rgba(60, 64, 67, 0.15);\n",
              "    fill: var(--button-hover-fill-color);\n",
              "  }\n",
              "\n",
              "  .colab-df-quickchart-complete:disabled,\n",
              "  .colab-df-quickchart-complete:disabled:hover {\n",
              "    background-color: var(--disabled-bg-color);\n",
              "    fill: var(--disabled-fill-color);\n",
              "    box-shadow: none;\n",
              "  }\n",
              "\n",
              "  .colab-df-spinner {\n",
              "    border: 2px solid var(--fill-color);\n",
              "    border-color: transparent;\n",
              "    border-bottom-color: var(--fill-color);\n",
              "    animation:\n",
              "      spin 1s steps(1) infinite;\n",
              "  }\n",
              "\n",
              "  @keyframes spin {\n",
              "    0% {\n",
              "      border-color: transparent;\n",
              "      border-bottom-color: var(--fill-color);\n",
              "      border-left-color: var(--fill-color);\n",
              "    }\n",
              "    20% {\n",
              "      border-color: transparent;\n",
              "      border-left-color: var(--fill-color);\n",
              "      border-top-color: var(--fill-color);\n",
              "    }\n",
              "    30% {\n",
              "      border-color: transparent;\n",
              "      border-left-color: var(--fill-color);\n",
              "      border-top-color: var(--fill-color);\n",
              "      border-right-color: var(--fill-color);\n",
              "    }\n",
              "    40% {\n",
              "      border-color: transparent;\n",
              "      border-right-color: var(--fill-color);\n",
              "      border-top-color: var(--fill-color);\n",
              "    }\n",
              "    60% {\n",
              "      border-color: transparent;\n",
              "      border-right-color: var(--fill-color);\n",
              "    }\n",
              "    80% {\n",
              "      border-color: transparent;\n",
              "      border-right-color: var(--fill-color);\n",
              "      border-bottom-color: var(--fill-color);\n",
              "    }\n",
              "    90% {\n",
              "      border-color: transparent;\n",
              "      border-bottom-color: var(--fill-color);\n",
              "    }\n",
              "  }\n",
              "</style>\n",
              "\n",
              "  <script>\n",
              "    async function quickchart(key) {\n",
              "      const quickchartButtonEl =\n",
              "        document.querySelector('#' + key + ' button');\n",
              "      quickchartButtonEl.disabled = true;  // To prevent multiple clicks.\n",
              "      quickchartButtonEl.classList.add('colab-df-spinner');\n",
              "      try {\n",
              "        const charts = await google.colab.kernel.invokeFunction(\n",
              "            'suggestCharts', [key], {});\n",
              "      } catch (error) {\n",
              "        console.error('Error during call to suggestCharts:', error);\n",
              "      }\n",
              "      quickchartButtonEl.classList.remove('colab-df-spinner');\n",
              "      quickchartButtonEl.classList.add('colab-df-quickchart-complete');\n",
              "    }\n",
              "    (() => {\n",
              "      let quickchartButtonEl =\n",
              "        document.querySelector('#df-e0036f78-4d78-4c43-8d9b-e639b4dfc0d9 button');\n",
              "      quickchartButtonEl.style.display =\n",
              "        google.colab.kernel.accessAllowed ? 'block' : 'none';\n",
              "    })();\n",
              "  </script>\n",
              "</div>\n",
              "\n",
              "  <div id=\"id_b88fed40-0c41-4d21-ac62-048007a71b00\">\n",
              "    <style>\n",
              "      .colab-df-generate {\n",
              "        background-color: #E8F0FE;\n",
              "        border: none;\n",
              "        border-radius: 50%;\n",
              "        cursor: pointer;\n",
              "        display: none;\n",
              "        fill: #1967D2;\n",
              "        height: 32px;\n",
              "        padding: 0 0 0 0;\n",
              "        width: 32px;\n",
              "      }\n",
              "\n",
              "      .colab-df-generate:hover {\n",
              "        background-color: #E2EBFA;\n",
              "        box-shadow: 0px 1px 2px rgba(60, 64, 67, 0.3), 0px 1px 3px 1px rgba(60, 64, 67, 0.15);\n",
              "        fill: #174EA6;\n",
              "      }\n",
              "\n",
              "      [theme=dark] .colab-df-generate {\n",
              "        background-color: #3B4455;\n",
              "        fill: #D2E3FC;\n",
              "      }\n",
              "\n",
              "      [theme=dark] .colab-df-generate:hover {\n",
              "        background-color: #434B5C;\n",
              "        box-shadow: 0px 1px 3px 1px rgba(0, 0, 0, 0.15);\n",
              "        filter: drop-shadow(0px 1px 2px rgba(0, 0, 0, 0.3));\n",
              "        fill: #FFFFFF;\n",
              "      }\n",
              "    </style>\n",
              "    <button class=\"colab-df-generate\" onclick=\"generateWithVariable('data')\"\n",
              "            title=\"Generate code using this dataframe.\"\n",
              "            style=\"display:none;\">\n",
              "\n",
              "  <svg xmlns=\"http://www.w3.org/2000/svg\" height=\"24px\"viewBox=\"0 0 24 24\"\n",
              "       width=\"24px\">\n",
              "    <path d=\"M7,19H8.4L18.45,9,17,7.55,7,17.6ZM5,21V16.75L18.45,3.32a2,2,0,0,1,2.83,0l1.4,1.43a1.91,1.91,0,0,1,.58,1.4,1.91,1.91,0,0,1-.58,1.4L9.25,21ZM18.45,9,17,7.55Zm-12,3A5.31,5.31,0,0,0,4.9,8.1,5.31,5.31,0,0,0,1,6.5,5.31,5.31,0,0,0,4.9,4.9,5.31,5.31,0,0,0,6.5,1,5.31,5.31,0,0,0,8.1,4.9,5.31,5.31,0,0,0,12,6.5,5.46,5.46,0,0,0,6.5,12Z\"/>\n",
              "  </svg>\n",
              "    </button>\n",
              "    <script>\n",
              "      (() => {\n",
              "      const buttonEl =\n",
              "        document.querySelector('#id_b88fed40-0c41-4d21-ac62-048007a71b00 button.colab-df-generate');\n",
              "      buttonEl.style.display =\n",
              "        google.colab.kernel.accessAllowed ? 'block' : 'none';\n",
              "\n",
              "      buttonEl.onclick = () => {\n",
              "        google.colab.notebook.generateWithVariable('data');\n",
              "      }\n",
              "      })();\n",
              "    </script>\n",
              "  </div>\n",
              "\n",
              "    </div>\n",
              "  </div>\n"
            ],
            "application/vnd.google.colaboratory.intrinsic+json": {
              "type": "dataframe",
              "variable_name": "data",
              "summary": "{\n  \"name\": \"data\",\n  \"rows\": 1000,\n  \"fields\": [\n    {\n      \"column\": \"Transaction ID\",\n      \"properties\": {\n        \"dtype\": \"number\",\n        \"std\": 288,\n        \"min\": 1,\n        \"max\": 1000,\n        \"num_unique_values\": 1000,\n        \"samples\": [\n          522,\n          738,\n          741\n        ],\n        \"semantic_type\": \"\",\n        \"description\": \"\"\n      }\n    },\n    {\n      \"column\": \"Date\",\n      \"properties\": {\n        \"dtype\": \"object\",\n        \"num_unique_values\": 345,\n        \"samples\": [\n          \"2023-04-04\",\n          \"2023-04-13\",\n          \"2023-04-15\"\n        ],\n        \"semantic_type\": \"\",\n        \"description\": \"\"\n      }\n    },\n    {\n      \"column\": \"Customer ID\",\n      \"properties\": {\n        \"dtype\": \"string\",\n        \"num_unique_values\": 1000,\n        \"samples\": [\n          \"CUST522\",\n          \"CUST738\",\n          \"CUST741\"\n        ],\n        \"semantic_type\": \"\",\n        \"description\": \"\"\n      }\n    },\n    {\n      \"column\": \"Gender\",\n      \"properties\": {\n        \"dtype\": \"category\",\n        \"num_unique_values\": 2,\n        \"samples\": [\n          \"Female\",\n          \"Male\"\n        ],\n        \"semantic_type\": \"\",\n        \"description\": \"\"\n      }\n    },\n    {\n      \"column\": \"Age\",\n      \"properties\": {\n        \"dtype\": \"number\",\n        \"std\": 13,\n        \"min\": 18,\n        \"max\": 64,\n        \"num_unique_values\": 47,\n        \"samples\": [\n          48,\n          61\n        ],\n        \"semantic_type\": \"\",\n        \"description\": \"\"\n      }\n    },\n    {\n      \"column\": \"Product Category\",\n      \"properties\": {\n        \"dtype\": \"category\",\n        \"num_unique_values\": 3,\n        \"samples\": [\n          \"Beauty\",\n          \"Clothing\"\n        ],\n        \"semantic_type\": \"\",\n        \"description\": \"\"\n      }\n    },\n    {\n      \"column\": \"Quantity\",\n      \"properties\": {\n        \"dtype\": \"number\",\n        \"std\": 1,\n        \"min\": 1,\n        \"max\": 4,\n        \"num_unique_values\": 4,\n        \"samples\": [\n          2,\n          4\n        ],\n        \"semantic_type\": \"\",\n        \"description\": \"\"\n      }\n    },\n    {\n      \"column\": \"Price per Unit\",\n      \"properties\": {\n        \"dtype\": \"number\",\n        \"std\": 189,\n        \"min\": 25,\n        \"max\": 500,\n        \"num_unique_values\": 5,\n        \"samples\": [\n          500,\n          300\n        ],\n        \"semantic_type\": \"\",\n        \"description\": \"\"\n      }\n    },\n    {\n      \"column\": \"Total Amount\",\n      \"properties\": {\n        \"dtype\": \"number\",\n        \"std\": 559,\n        \"min\": 25,\n        \"max\": 2000,\n        \"num_unique_values\": 18,\n        \"samples\": [\n          150,\n          1000\n        ],\n        \"semantic_type\": \"\",\n        \"description\": \"\"\n      }\n    }\n  ]\n}"
            }
          },
          "metadata": {},
          "execution_count": 4
        }
      ]
    },
    {
      "cell_type": "markdown",
      "source": [
        "b) Display the first 10 rows of the dataset."
      ],
      "metadata": {
        "id": "qyeR3psAB0sV"
      }
    },
    {
      "cell_type": "code",
      "source": [
        "# prompt: generate a code to Display the first 10 rows of the dataset.\n",
        "\n",
        "data.head(10)\n"
      ],
      "metadata": {
        "colab": {
          "base_uri": "https://localhost:8080/",
          "height": 363
        },
        "id": "S7eAZZKgCJS9",
        "outputId": "586006aa-57bf-476c-bdaa-6e046067e34c"
      },
      "execution_count": null,
      "outputs": [
        {
          "output_type": "execute_result",
          "data": {
            "text/plain": [
              "   Transaction ID        Date Customer ID  Gender  Age Product Category  \\\n",
              "0               1  2023-11-24     CUST001    Male   34           Beauty   \n",
              "1               2  2023-02-27     CUST002  Female   26         Clothing   \n",
              "2               3  2023-01-13     CUST003    Male   50      Electronics   \n",
              "3               4  2023-05-21     CUST004    Male   37         Clothing   \n",
              "4               5  2023-05-06     CUST005    Male   30           Beauty   \n",
              "5               6  2023-04-25     CUST006  Female   45           Beauty   \n",
              "6               7  2023-03-13     CUST007    Male   46         Clothing   \n",
              "7               8  2023-02-22     CUST008    Male   30      Electronics   \n",
              "8               9  2023-12-13     CUST009    Male   63      Electronics   \n",
              "9              10  2023-10-07     CUST010  Female   52         Clothing   \n",
              "\n",
              "   Quantity  Price per Unit  Total Amount  \n",
              "0         3              50           150  \n",
              "1         2             500          1000  \n",
              "2         1              30            30  \n",
              "3         1             500           500  \n",
              "4         2              50           100  \n",
              "5         1              30            30  \n",
              "6         2              25            50  \n",
              "7         4              25           100  \n",
              "8         2             300           600  \n",
              "9         4              50           200  "
            ],
            "text/html": [
              "\n",
              "  <div id=\"df-0d5fed7e-0aba-4049-99c5-487b2bc41730\" class=\"colab-df-container\">\n",
              "    <div>\n",
              "<style scoped>\n",
              "    .dataframe tbody tr th:only-of-type {\n",
              "        vertical-align: middle;\n",
              "    }\n",
              "\n",
              "    .dataframe tbody tr th {\n",
              "        vertical-align: top;\n",
              "    }\n",
              "\n",
              "    .dataframe thead th {\n",
              "        text-align: right;\n",
              "    }\n",
              "</style>\n",
              "<table border=\"1\" class=\"dataframe\">\n",
              "  <thead>\n",
              "    <tr style=\"text-align: right;\">\n",
              "      <th></th>\n",
              "      <th>Transaction ID</th>\n",
              "      <th>Date</th>\n",
              "      <th>Customer ID</th>\n",
              "      <th>Gender</th>\n",
              "      <th>Age</th>\n",
              "      <th>Product Category</th>\n",
              "      <th>Quantity</th>\n",
              "      <th>Price per Unit</th>\n",
              "      <th>Total Amount</th>\n",
              "    </tr>\n",
              "  </thead>\n",
              "  <tbody>\n",
              "    <tr>\n",
              "      <th>0</th>\n",
              "      <td>1</td>\n",
              "      <td>2023-11-24</td>\n",
              "      <td>CUST001</td>\n",
              "      <td>Male</td>\n",
              "      <td>34</td>\n",
              "      <td>Beauty</td>\n",
              "      <td>3</td>\n",
              "      <td>50</td>\n",
              "      <td>150</td>\n",
              "    </tr>\n",
              "    <tr>\n",
              "      <th>1</th>\n",
              "      <td>2</td>\n",
              "      <td>2023-02-27</td>\n",
              "      <td>CUST002</td>\n",
              "      <td>Female</td>\n",
              "      <td>26</td>\n",
              "      <td>Clothing</td>\n",
              "      <td>2</td>\n",
              "      <td>500</td>\n",
              "      <td>1000</td>\n",
              "    </tr>\n",
              "    <tr>\n",
              "      <th>2</th>\n",
              "      <td>3</td>\n",
              "      <td>2023-01-13</td>\n",
              "      <td>CUST003</td>\n",
              "      <td>Male</td>\n",
              "      <td>50</td>\n",
              "      <td>Electronics</td>\n",
              "      <td>1</td>\n",
              "      <td>30</td>\n",
              "      <td>30</td>\n",
              "    </tr>\n",
              "    <tr>\n",
              "      <th>3</th>\n",
              "      <td>4</td>\n",
              "      <td>2023-05-21</td>\n",
              "      <td>CUST004</td>\n",
              "      <td>Male</td>\n",
              "      <td>37</td>\n",
              "      <td>Clothing</td>\n",
              "      <td>1</td>\n",
              "      <td>500</td>\n",
              "      <td>500</td>\n",
              "    </tr>\n",
              "    <tr>\n",
              "      <th>4</th>\n",
              "      <td>5</td>\n",
              "      <td>2023-05-06</td>\n",
              "      <td>CUST005</td>\n",
              "      <td>Male</td>\n",
              "      <td>30</td>\n",
              "      <td>Beauty</td>\n",
              "      <td>2</td>\n",
              "      <td>50</td>\n",
              "      <td>100</td>\n",
              "    </tr>\n",
              "    <tr>\n",
              "      <th>5</th>\n",
              "      <td>6</td>\n",
              "      <td>2023-04-25</td>\n",
              "      <td>CUST006</td>\n",
              "      <td>Female</td>\n",
              "      <td>45</td>\n",
              "      <td>Beauty</td>\n",
              "      <td>1</td>\n",
              "      <td>30</td>\n",
              "      <td>30</td>\n",
              "    </tr>\n",
              "    <tr>\n",
              "      <th>6</th>\n",
              "      <td>7</td>\n",
              "      <td>2023-03-13</td>\n",
              "      <td>CUST007</td>\n",
              "      <td>Male</td>\n",
              "      <td>46</td>\n",
              "      <td>Clothing</td>\n",
              "      <td>2</td>\n",
              "      <td>25</td>\n",
              "      <td>50</td>\n",
              "    </tr>\n",
              "    <tr>\n",
              "      <th>7</th>\n",
              "      <td>8</td>\n",
              "      <td>2023-02-22</td>\n",
              "      <td>CUST008</td>\n",
              "      <td>Male</td>\n",
              "      <td>30</td>\n",
              "      <td>Electronics</td>\n",
              "      <td>4</td>\n",
              "      <td>25</td>\n",
              "      <td>100</td>\n",
              "    </tr>\n",
              "    <tr>\n",
              "      <th>8</th>\n",
              "      <td>9</td>\n",
              "      <td>2023-12-13</td>\n",
              "      <td>CUST009</td>\n",
              "      <td>Male</td>\n",
              "      <td>63</td>\n",
              "      <td>Electronics</td>\n",
              "      <td>2</td>\n",
              "      <td>300</td>\n",
              "      <td>600</td>\n",
              "    </tr>\n",
              "    <tr>\n",
              "      <th>9</th>\n",
              "      <td>10</td>\n",
              "      <td>2023-10-07</td>\n",
              "      <td>CUST010</td>\n",
              "      <td>Female</td>\n",
              "      <td>52</td>\n",
              "      <td>Clothing</td>\n",
              "      <td>4</td>\n",
              "      <td>50</td>\n",
              "      <td>200</td>\n",
              "    </tr>\n",
              "  </tbody>\n",
              "</table>\n",
              "</div>\n",
              "    <div class=\"colab-df-buttons\">\n",
              "\n",
              "  <div class=\"colab-df-container\">\n",
              "    <button class=\"colab-df-convert\" onclick=\"convertToInteractive('df-0d5fed7e-0aba-4049-99c5-487b2bc41730')\"\n",
              "            title=\"Convert this dataframe to an interactive table.\"\n",
              "            style=\"display:none;\">\n",
              "\n",
              "  <svg xmlns=\"http://www.w3.org/2000/svg\" height=\"24px\" viewBox=\"0 -960 960 960\">\n",
              "    <path d=\"M120-120v-720h720v720H120Zm60-500h600v-160H180v160Zm220 220h160v-160H400v160Zm0 220h160v-160H400v160ZM180-400h160v-160H180v160Zm440 0h160v-160H620v160ZM180-180h160v-160H180v160Zm440 0h160v-160H620v160Z\"/>\n",
              "  </svg>\n",
              "    </button>\n",
              "\n",
              "  <style>\n",
              "    .colab-df-container {\n",
              "      display:flex;\n",
              "      gap: 12px;\n",
              "    }\n",
              "\n",
              "    .colab-df-convert {\n",
              "      background-color: #E8F0FE;\n",
              "      border: none;\n",
              "      border-radius: 50%;\n",
              "      cursor: pointer;\n",
              "      display: none;\n",
              "      fill: #1967D2;\n",
              "      height: 32px;\n",
              "      padding: 0 0 0 0;\n",
              "      width: 32px;\n",
              "    }\n",
              "\n",
              "    .colab-df-convert:hover {\n",
              "      background-color: #E2EBFA;\n",
              "      box-shadow: 0px 1px 2px rgba(60, 64, 67, 0.3), 0px 1px 3px 1px rgba(60, 64, 67, 0.15);\n",
              "      fill: #174EA6;\n",
              "    }\n",
              "\n",
              "    .colab-df-buttons div {\n",
              "      margin-bottom: 4px;\n",
              "    }\n",
              "\n",
              "    [theme=dark] .colab-df-convert {\n",
              "      background-color: #3B4455;\n",
              "      fill: #D2E3FC;\n",
              "    }\n",
              "\n",
              "    [theme=dark] .colab-df-convert:hover {\n",
              "      background-color: #434B5C;\n",
              "      box-shadow: 0px 1px 3px 1px rgba(0, 0, 0, 0.15);\n",
              "      filter: drop-shadow(0px 1px 2px rgba(0, 0, 0, 0.3));\n",
              "      fill: #FFFFFF;\n",
              "    }\n",
              "  </style>\n",
              "\n",
              "    <script>\n",
              "      const buttonEl =\n",
              "        document.querySelector('#df-0d5fed7e-0aba-4049-99c5-487b2bc41730 button.colab-df-convert');\n",
              "      buttonEl.style.display =\n",
              "        google.colab.kernel.accessAllowed ? 'block' : 'none';\n",
              "\n",
              "      async function convertToInteractive(key) {\n",
              "        const element = document.querySelector('#df-0d5fed7e-0aba-4049-99c5-487b2bc41730');\n",
              "        const dataTable =\n",
              "          await google.colab.kernel.invokeFunction('convertToInteractive',\n",
              "                                                    [key], {});\n",
              "        if (!dataTable) return;\n",
              "\n",
              "        const docLinkHtml = 'Like what you see? Visit the ' +\n",
              "          '<a target=\"_blank\" href=https://colab.research.google.com/notebooks/data_table.ipynb>data table notebook</a>'\n",
              "          + ' to learn more about interactive tables.';\n",
              "        element.innerHTML = '';\n",
              "        dataTable['output_type'] = 'display_data';\n",
              "        await google.colab.output.renderOutput(dataTable, element);\n",
              "        const docLink = document.createElement('div');\n",
              "        docLink.innerHTML = docLinkHtml;\n",
              "        element.appendChild(docLink);\n",
              "      }\n",
              "    </script>\n",
              "  </div>\n",
              "\n",
              "\n",
              "<div id=\"df-eaf62b14-1901-4412-82c4-9d9877088223\">\n",
              "  <button class=\"colab-df-quickchart\" onclick=\"quickchart('df-eaf62b14-1901-4412-82c4-9d9877088223')\"\n",
              "            title=\"Suggest charts\"\n",
              "            style=\"display:none;\">\n",
              "\n",
              "<svg xmlns=\"http://www.w3.org/2000/svg\" height=\"24px\"viewBox=\"0 0 24 24\"\n",
              "     width=\"24px\">\n",
              "    <g>\n",
              "        <path d=\"M19 3H5c-1.1 0-2 .9-2 2v14c0 1.1.9 2 2 2h14c1.1 0 2-.9 2-2V5c0-1.1-.9-2-2-2zM9 17H7v-7h2v7zm4 0h-2V7h2v10zm4 0h-2v-4h2v4z\"/>\n",
              "    </g>\n",
              "</svg>\n",
              "  </button>\n",
              "\n",
              "<style>\n",
              "  .colab-df-quickchart {\n",
              "      --bg-color: #E8F0FE;\n",
              "      --fill-color: #1967D2;\n",
              "      --hover-bg-color: #E2EBFA;\n",
              "      --hover-fill-color: #174EA6;\n",
              "      --disabled-fill-color: #AAA;\n",
              "      --disabled-bg-color: #DDD;\n",
              "  }\n",
              "\n",
              "  [theme=dark] .colab-df-quickchart {\n",
              "      --bg-color: #3B4455;\n",
              "      --fill-color: #D2E3FC;\n",
              "      --hover-bg-color: #434B5C;\n",
              "      --hover-fill-color: #FFFFFF;\n",
              "      --disabled-bg-color: #3B4455;\n",
              "      --disabled-fill-color: #666;\n",
              "  }\n",
              "\n",
              "  .colab-df-quickchart {\n",
              "    background-color: var(--bg-color);\n",
              "    border: none;\n",
              "    border-radius: 50%;\n",
              "    cursor: pointer;\n",
              "    display: none;\n",
              "    fill: var(--fill-color);\n",
              "    height: 32px;\n",
              "    padding: 0;\n",
              "    width: 32px;\n",
              "  }\n",
              "\n",
              "  .colab-df-quickchart:hover {\n",
              "    background-color: var(--hover-bg-color);\n",
              "    box-shadow: 0 1px 2px rgba(60, 64, 67, 0.3), 0 1px 3px 1px rgba(60, 64, 67, 0.15);\n",
              "    fill: var(--button-hover-fill-color);\n",
              "  }\n",
              "\n",
              "  .colab-df-quickchart-complete:disabled,\n",
              "  .colab-df-quickchart-complete:disabled:hover {\n",
              "    background-color: var(--disabled-bg-color);\n",
              "    fill: var(--disabled-fill-color);\n",
              "    box-shadow: none;\n",
              "  }\n",
              "\n",
              "  .colab-df-spinner {\n",
              "    border: 2px solid var(--fill-color);\n",
              "    border-color: transparent;\n",
              "    border-bottom-color: var(--fill-color);\n",
              "    animation:\n",
              "      spin 1s steps(1) infinite;\n",
              "  }\n",
              "\n",
              "  @keyframes spin {\n",
              "    0% {\n",
              "      border-color: transparent;\n",
              "      border-bottom-color: var(--fill-color);\n",
              "      border-left-color: var(--fill-color);\n",
              "    }\n",
              "    20% {\n",
              "      border-color: transparent;\n",
              "      border-left-color: var(--fill-color);\n",
              "      border-top-color: var(--fill-color);\n",
              "    }\n",
              "    30% {\n",
              "      border-color: transparent;\n",
              "      border-left-color: var(--fill-color);\n",
              "      border-top-color: var(--fill-color);\n",
              "      border-right-color: var(--fill-color);\n",
              "    }\n",
              "    40% {\n",
              "      border-color: transparent;\n",
              "      border-right-color: var(--fill-color);\n",
              "      border-top-color: var(--fill-color);\n",
              "    }\n",
              "    60% {\n",
              "      border-color: transparent;\n",
              "      border-right-color: var(--fill-color);\n",
              "    }\n",
              "    80% {\n",
              "      border-color: transparent;\n",
              "      border-right-color: var(--fill-color);\n",
              "      border-bottom-color: var(--fill-color);\n",
              "    }\n",
              "    90% {\n",
              "      border-color: transparent;\n",
              "      border-bottom-color: var(--fill-color);\n",
              "    }\n",
              "  }\n",
              "</style>\n",
              "\n",
              "  <script>\n",
              "    async function quickchart(key) {\n",
              "      const quickchartButtonEl =\n",
              "        document.querySelector('#' + key + ' button');\n",
              "      quickchartButtonEl.disabled = true;  // To prevent multiple clicks.\n",
              "      quickchartButtonEl.classList.add('colab-df-spinner');\n",
              "      try {\n",
              "        const charts = await google.colab.kernel.invokeFunction(\n",
              "            'suggestCharts', [key], {});\n",
              "      } catch (error) {\n",
              "        console.error('Error during call to suggestCharts:', error);\n",
              "      }\n",
              "      quickchartButtonEl.classList.remove('colab-df-spinner');\n",
              "      quickchartButtonEl.classList.add('colab-df-quickchart-complete');\n",
              "    }\n",
              "    (() => {\n",
              "      let quickchartButtonEl =\n",
              "        document.querySelector('#df-eaf62b14-1901-4412-82c4-9d9877088223 button');\n",
              "      quickchartButtonEl.style.display =\n",
              "        google.colab.kernel.accessAllowed ? 'block' : 'none';\n",
              "    })();\n",
              "  </script>\n",
              "</div>\n",
              "\n",
              "    </div>\n",
              "  </div>\n"
            ],
            "application/vnd.google.colaboratory.intrinsic+json": {
              "type": "dataframe",
              "variable_name": "data",
              "summary": "{\n  \"name\": \"data\",\n  \"rows\": 1000,\n  \"fields\": [\n    {\n      \"column\": \"Transaction ID\",\n      \"properties\": {\n        \"dtype\": \"number\",\n        \"std\": 288,\n        \"min\": 1,\n        \"max\": 1000,\n        \"num_unique_values\": 1000,\n        \"samples\": [\n          522,\n          738,\n          741\n        ],\n        \"semantic_type\": \"\",\n        \"description\": \"\"\n      }\n    },\n    {\n      \"column\": \"Date\",\n      \"properties\": {\n        \"dtype\": \"object\",\n        \"num_unique_values\": 345,\n        \"samples\": [\n          \"2023-04-04\",\n          \"2023-04-13\",\n          \"2023-04-15\"\n        ],\n        \"semantic_type\": \"\",\n        \"description\": \"\"\n      }\n    },\n    {\n      \"column\": \"Customer ID\",\n      \"properties\": {\n        \"dtype\": \"string\",\n        \"num_unique_values\": 1000,\n        \"samples\": [\n          \"CUST522\",\n          \"CUST738\",\n          \"CUST741\"\n        ],\n        \"semantic_type\": \"\",\n        \"description\": \"\"\n      }\n    },\n    {\n      \"column\": \"Gender\",\n      \"properties\": {\n        \"dtype\": \"category\",\n        \"num_unique_values\": 2,\n        \"samples\": [\n          \"Female\",\n          \"Male\"\n        ],\n        \"semantic_type\": \"\",\n        \"description\": \"\"\n      }\n    },\n    {\n      \"column\": \"Age\",\n      \"properties\": {\n        \"dtype\": \"number\",\n        \"std\": 13,\n        \"min\": 18,\n        \"max\": 64,\n        \"num_unique_values\": 47,\n        \"samples\": [\n          48,\n          61\n        ],\n        \"semantic_type\": \"\",\n        \"description\": \"\"\n      }\n    },\n    {\n      \"column\": \"Product Category\",\n      \"properties\": {\n        \"dtype\": \"category\",\n        \"num_unique_values\": 3,\n        \"samples\": [\n          \"Beauty\",\n          \"Clothing\"\n        ],\n        \"semantic_type\": \"\",\n        \"description\": \"\"\n      }\n    },\n    {\n      \"column\": \"Quantity\",\n      \"properties\": {\n        \"dtype\": \"number\",\n        \"std\": 1,\n        \"min\": 1,\n        \"max\": 4,\n        \"num_unique_values\": 4,\n        \"samples\": [\n          2,\n          4\n        ],\n        \"semantic_type\": \"\",\n        \"description\": \"\"\n      }\n    },\n    {\n      \"column\": \"Price per Unit\",\n      \"properties\": {\n        \"dtype\": \"number\",\n        \"std\": 189,\n        \"min\": 25,\n        \"max\": 500,\n        \"num_unique_values\": 5,\n        \"samples\": [\n          500,\n          300\n        ],\n        \"semantic_type\": \"\",\n        \"description\": \"\"\n      }\n    },\n    {\n      \"column\": \"Total Amount\",\n      \"properties\": {\n        \"dtype\": \"number\",\n        \"std\": 559,\n        \"min\": 25,\n        \"max\": 2000,\n        \"num_unique_values\": 18,\n        \"samples\": [\n          150,\n          1000\n        ],\n        \"semantic_type\": \"\",\n        \"description\": \"\"\n      }\n    }\n  ]\n}"
            }
          },
          "metadata": {},
          "execution_count": 3
        }
      ]
    },
    {
      "cell_type": "markdown",
      "source": [
        "c) Print the column names and their respective data types."
      ],
      "metadata": {
        "id": "ZrYbEOUcCZb1"
      }
    },
    {
      "cell_type": "code",
      "source": [
        "# prompt: generate a code to Print the column names and their respective data types.\n",
        "\n",
        "data.dtypes\n"
      ],
      "metadata": {
        "colab": {
          "base_uri": "https://localhost:8080/",
          "height": 366
        },
        "id": "Od5ryjYICkpR",
        "outputId": "0798f757-1386-4f68-e1b9-c895db3ff93e"
      },
      "execution_count": null,
      "outputs": [
        {
          "output_type": "execute_result",
          "data": {
            "text/plain": [
              "Transaction ID       int64\n",
              "Date                object\n",
              "Customer ID         object\n",
              "Gender              object\n",
              "Age                  int64\n",
              "Product Category    object\n",
              "Quantity             int64\n",
              "Price per Unit       int64\n",
              "Total Amount         int64\n",
              "dtype: object"
            ],
            "text/html": [
              "<div>\n",
              "<style scoped>\n",
              "    .dataframe tbody tr th:only-of-type {\n",
              "        vertical-align: middle;\n",
              "    }\n",
              "\n",
              "    .dataframe tbody tr th {\n",
              "        vertical-align: top;\n",
              "    }\n",
              "\n",
              "    .dataframe thead th {\n",
              "        text-align: right;\n",
              "    }\n",
              "</style>\n",
              "<table border=\"1\" class=\"dataframe\">\n",
              "  <thead>\n",
              "    <tr style=\"text-align: right;\">\n",
              "      <th></th>\n",
              "      <th>0</th>\n",
              "    </tr>\n",
              "  </thead>\n",
              "  <tbody>\n",
              "    <tr>\n",
              "      <th>Transaction ID</th>\n",
              "      <td>int64</td>\n",
              "    </tr>\n",
              "    <tr>\n",
              "      <th>Date</th>\n",
              "      <td>object</td>\n",
              "    </tr>\n",
              "    <tr>\n",
              "      <th>Customer ID</th>\n",
              "      <td>object</td>\n",
              "    </tr>\n",
              "    <tr>\n",
              "      <th>Gender</th>\n",
              "      <td>object</td>\n",
              "    </tr>\n",
              "    <tr>\n",
              "      <th>Age</th>\n",
              "      <td>int64</td>\n",
              "    </tr>\n",
              "    <tr>\n",
              "      <th>Product Category</th>\n",
              "      <td>object</td>\n",
              "    </tr>\n",
              "    <tr>\n",
              "      <th>Quantity</th>\n",
              "      <td>int64</td>\n",
              "    </tr>\n",
              "    <tr>\n",
              "      <th>Price per Unit</th>\n",
              "      <td>int64</td>\n",
              "    </tr>\n",
              "    <tr>\n",
              "      <th>Total Amount</th>\n",
              "      <td>int64</td>\n",
              "    </tr>\n",
              "  </tbody>\n",
              "</table>\n",
              "</div><br><label><b>dtype:</b> object</label>"
            ]
          },
          "metadata": {},
          "execution_count": 5
        }
      ]
    },
    {
      "cell_type": "markdown",
      "source": [
        "d) Check for missing values and duplicates in the dataset."
      ],
      "metadata": {
        "id": "SwPbrTPeCzBS"
      }
    },
    {
      "cell_type": "code",
      "source": [
        "# prompt: generate a code for Check for missing values and duplicates in the dataset.\n",
        "\n",
        "# Check for missing values\n",
        "print(data.isnull().sum())\n",
        "\n",
        "# Check for duplicate rows\n",
        "print(data.duplicated().sum())\n"
      ],
      "metadata": {
        "colab": {
          "base_uri": "https://localhost:8080/"
        },
        "id": "y5yGcWgnC8Xb",
        "outputId": "4272254a-749b-463d-e910-d6c02cc915b1"
      },
      "execution_count": null,
      "outputs": [
        {
          "output_type": "stream",
          "name": "stdout",
          "text": [
            "Transaction ID      0\n",
            "Date                0\n",
            "Customer ID         0\n",
            "Gender              0\n",
            "Age                 0\n",
            "Product Category    0\n",
            "Quantity            0\n",
            "Price per Unit      0\n",
            "Total Amount        0\n",
            "dtype: int64\n",
            "0\n"
          ]
        }
      ]
    },
    {
      "cell_type": "markdown",
      "source": [
        "# Deliverables:\n",
        "\n",
        "* A brief summary of the dataset."
      ],
      "metadata": {
        "id": "ToAAxVvTDJmx"
      }
    },
    {
      "cell_type": "markdown",
      "source": [
        "Dataset Summary:\n",
        "\n",
        "Shape: (1000 rows, 9 columns)\n",
        "\n",
        "Columns:\n",
        "\n",
        "* Transaction ID (int64) - Unique transaction identifier\n",
        "* Date (object) - Date of the transaction\n",
        "* Customer ID (object) - Unique customer identifier\n",
        "* Gender (object) - Customer gender\n",
        "* Age (int64) - Customer age\n",
        "* Product Category (object) - Category of the purchased product\n",
        "* Quantity (int64) - Number of units purchased\n",
        "* Price per Unit (int64) - Cost per unit of the product\n",
        "* Total Amount (int64) - Total transaction amount\n",
        "* Missing Values: None (all columns are complete)\n",
        "\n",
        "First 5 Rows (Sample Data):\n",
        "\n",
        "1. Transaction ID: 1, Date: 2023-11-24, Customer ID: CUST001, Gender: Male, Age: 34, Category: Beauty, Quantity: 3, Price per Unit: 50, Total Amount: 150\n",
        "2. Transaction ID: 2, Date: 2023-02-27, Customer ID: CUST002, Gender: Female, Age: 26, Category: Clothing, Quantity: 2, Price per Unit: 500, Total Amount: 1000\n",
        "3. Transaction ID: 3, Date: 2023-01-13, Customer ID: CUST003, Gender: Male, Age: 50, Category: Electronics, Quantity: 1, Price per Unit: 30, Total Amount: 30\n",
        "4. Transaction ID: 4, Date: 2023-05-21, Customer ID: CUST004, Gender: Male, Age: 37, Category: Clothing, Quantity: 1, Price per Unit: 500, Total Amount: 500\n",
        "5. Transaction ID: 5, Date: 2023-05-06, Customer ID: CUST005, Gender: Male, Age: 30, Category: Beauty, Quantity: 2, Price per Unit: 50, Total Amount: 100"
      ],
      "metadata": {
        "id": "nFne929aCy9c"
      }
    },
    {
      "cell_type": "markdown",
      "source": [
        "* A count of missing values and duplicate rows."
      ],
      "metadata": {
        "id": "F4To3-gnnbOH"
      }
    },
    {
      "cell_type": "code",
      "source": [
        "# prompt: generate a code to  count of missing values and duplicate rows.\n",
        "\n",
        "# Check for missing values\n",
        "print(data.isnull().sum())\n",
        "\n",
        "# Check for duplicate rows\n",
        "print(data.duplicated().sum())\n"
      ],
      "metadata": {
        "colab": {
          "base_uri": "https://localhost:8080/"
        },
        "id": "GPIXNa8_nhyu",
        "outputId": "842744ea-c293-4646-d57a-8dab3eafc887"
      },
      "execution_count": null,
      "outputs": [
        {
          "output_type": "stream",
          "name": "stdout",
          "text": [
            "Transaction ID      0\n",
            "Date                0\n",
            "Customer ID         0\n",
            "Gender              0\n",
            "Age                 0\n",
            "Product Category    0\n",
            "Quantity            0\n",
            "Price per Unit      0\n",
            "Total Amount        0\n",
            "dtype: int64\n",
            "0\n"
          ]
        }
      ]
    },
    {
      "cell_type": "markdown",
      "source": [
        "# 2. Data Cleaning\n",
        "a) If there are duplicates, remove them."
      ],
      "metadata": {
        "id": "xVohlHRQoZ2D"
      }
    },
    {
      "cell_type": "code",
      "source": [
        "# prompt: generate a code for If there are duplicates, remove them.\n",
        "\n",
        "# Remove duplicate rows\n",
        "data = data.drop_duplicates()\n",
        "\n",
        "# Verify if duplicates are removed\n",
        "print(data.duplicated().sum())\n"
      ],
      "metadata": {
        "colab": {
          "base_uri": "https://localhost:8080/"
        },
        "id": "_9iPy4Wfoj2N",
        "outputId": "7561a5dc-25b8-4c9f-8099-b980a15eedeb"
      },
      "execution_count": null,
      "outputs": [
        {
          "output_type": "stream",
          "name": "stdout",
          "text": [
            "0\n"
          ]
        }
      ]
    },
    {
      "cell_type": "markdown",
      "source": [
        "b) Handle missing values appropriately (drop or impute them)."
      ],
      "metadata": {
        "id": "3m5X-g0co13j"
      }
    },
    {
      "cell_type": "code",
      "source": [
        "# prompt: generate a code for Handle missing values appropriately (drop or impute them).\n",
        "\n",
        "# Check for missing values again after removing duplicates (optional but good practice)\n",
        "print(data.isnull().sum())\n",
        "\n",
        "# Impute missing values (example using mean for numerical columns)\n",
        "for col in data.select_dtypes(include=['number']):\n",
        "    if data[col].isnull().any():\n",
        "        data[col] = data[col].fillna(data[col].mean())\n",
        "\n",
        "# Alternatively, drop rows with missing values\n",
        "# data.dropna(inplace=True)\n",
        "\n",
        "# Verify if missing values are handled\n",
        "print(data.isnull().sum())\n"
      ],
      "metadata": {
        "colab": {
          "base_uri": "https://localhost:8080/"
        },
        "id": "CE-j2QgGo-k5",
        "outputId": "38025989-0289-40d4-d6e9-8c51d4baf052"
      },
      "execution_count": null,
      "outputs": [
        {
          "output_type": "stream",
          "name": "stdout",
          "text": [
            "Transaction ID      0\n",
            "Date                0\n",
            "Customer ID         0\n",
            "Gender              0\n",
            "Age                 0\n",
            "Product Category    0\n",
            "Quantity            0\n",
            "Price per Unit      0\n",
            "Total Amount        0\n",
            "dtype: int64\n",
            "Transaction ID      0\n",
            "Date                0\n",
            "Customer ID         0\n",
            "Gender              0\n",
            "Age                 0\n",
            "Product Category    0\n",
            "Quantity            0\n",
            "Price per Unit      0\n",
            "Total Amount        0\n",
            "dtype: int64\n"
          ]
        }
      ]
    },
    {
      "cell_type": "markdown",
      "source": [],
      "metadata": {
        "id": "5G3nrNFFo1zO"
      }
    },
    {
      "cell_type": "markdown",
      "source": [
        "c) Rename the columns to more meaningful names, if necessary."
      ],
      "metadata": {
        "id": "wymVxWIZpKR2"
      }
    },
    {
      "cell_type": "code",
      "source": [
        "# prompt: generate a code to Rename the columns to more meaningful names, if necessary.\n",
        "\n",
        "# Rename columns\n",
        "data = data.rename(columns={\n",
        "    'Transaction ID': 'transaction_id',\n",
        "    'Customer ID': 'customer_id',\n",
        "    'Product Category': 'product_category',\n",
        "    'Price per Unit': 'price_per_unit',\n",
        "    'Total Amount': 'total_amount'\n",
        "})\n",
        "\n",
        "# Display the updated column names\n",
        "data.columns\n"
      ],
      "metadata": {
        "colab": {
          "base_uri": "https://localhost:8080/"
        },
        "id": "3L757Si0pUpr",
        "outputId": "af2e91a8-3546-4382-e29d-2f37c7eb2107"
      },
      "execution_count": null,
      "outputs": [
        {
          "output_type": "execute_result",
          "data": {
            "text/plain": [
              "Index(['transaction_id', 'Date', 'customer_id', 'Gender', 'Age',\n",
              "       'product_category', 'Quantity', 'price_per_unit', 'total_amount'],\n",
              "      dtype='object')"
            ]
          },
          "metadata": {},
          "execution_count": 5
        }
      ]
    },
    {
      "cell_type": "markdown",
      "source": [
        "## Deliverables:\n",
        "* Cleaned dataset."
      ],
      "metadata": {
        "id": "m48pe-j4pieg"
      }
    },
    {
      "cell_type": "code",
      "source": [
        "# prompt: generate a code for Cleaned dataset.\n",
        "\n",
        "# Assuming 'data' DataFrame from the previous code block is available\n",
        "\n",
        "# Further data cleaning steps if needed (example: outlier handling, data type conversion etc.)\n",
        "\n",
        "# Example: Convert 'Date' column to datetime objects\n",
        "data['Date'] = pd.to_datetime(data['Date'])\n",
        "\n",
        "# Example: Convert relevant columns to appropriate data types (if needed)\n",
        "# For instance:\n",
        "# data['customer_id'] = data['customer_id'].astype('category')\n",
        "# data['product_category'] = data['product_category'].astype('category')\n",
        "\n",
        "# Display the cleaned dataset\n",
        "print(data.head())\n",
        "\n",
        "# Save the cleaned dataset to a new CSV file (optional)\n",
        "# data.to_csv('cleaned_retail_sales.csv', index=False)\n"
      ],
      "metadata": {
        "colab": {
          "base_uri": "https://localhost:8080/"
        },
        "id": "a6dG7ooKp18E",
        "outputId": "35d14f0b-aa7e-458e-ac4e-a374e0c0c9c7"
      },
      "execution_count": null,
      "outputs": [
        {
          "output_type": "stream",
          "name": "stdout",
          "text": [
            "   transaction_id       Date customer_id  Gender  Age product_category  \\\n",
            "0               1 2023-11-24     CUST001    Male   34           Beauty   \n",
            "1               2 2023-02-27     CUST002  Female   26         Clothing   \n",
            "2               3 2023-01-13     CUST003    Male   50      Electronics   \n",
            "3               4 2023-05-21     CUST004    Male   37         Clothing   \n",
            "4               5 2023-05-06     CUST005    Male   30           Beauty   \n",
            "\n",
            "   Quantity  price_per_unit  total_amount  \n",
            "0         3              50           150  \n",
            "1         2             500          1000  \n",
            "2         1              30            30  \n",
            "3         1             500           500  \n",
            "4         2              50           100  \n"
          ]
        }
      ]
    },
    {
      "cell_type": "markdown",
      "source": [
        "* Explanation of how you handled missing values and duplicates.\n",
        "\n",
        "Dataset contains 1,000 entries with 9 columns, and there are no missing values since all columns have 1,000 non-null .Since there are no missing values or duplicates, no data cleaning was necessary for these aspects."
      ],
      "metadata": {
        "id": "Hs1YIYbbpiXR"
      }
    },
    {
      "cell_type": "markdown",
      "source": [
        "# 3. Exploratory Data Analysis (EDA)\n",
        "a) Plot the distribution of the following discrete features:\n",
        "   \n",
        "   * Quantity"
      ],
      "metadata": {
        "id": "7oQgKpeUrWjK"
      }
    },
    {
      "cell_type": "code",
      "source": [
        "# prompt: generate the code to Plot the distribution of quantity.\n",
        "\n",
        "import matplotlib.pyplot as plt\n",
        "import seaborn as sns\n",
        "\n",
        "# Assuming 'data' DataFrame from the previous code block is available\n",
        "\n",
        "# Plot the distribution of Quantity\n",
        "plt.figure(figsize=(8, 6))\n",
        "sns.histplot(data['Quantity'], kde=True)\n",
        "plt.title('Distribution of Quantity')\n",
        "plt.xlabel('Quantity')\n",
        "plt.ylabel('Frequency')\n",
        "plt.show()\n"
      ],
      "metadata": {
        "colab": {
          "base_uri": "https://localhost:8080/",
          "height": 564
        },
        "id": "sIe9ooZsrvQ-",
        "outputId": "d72abe5c-f67e-40e6-a69b-ac0b422359d6"
      },
      "execution_count": null,
      "outputs": [
        {
          "output_type": "display_data",
          "data": {
            "text/plain": [
              "<Figure size 800x600 with 1 Axes>"
            ],
            "image/png": "[encoded data removed]"
          },
          "metadata": {}
        }
      ]
    },
    {
      "cell_type": "markdown",
      "source": [
        "* category"
      ],
      "metadata": {
        "id": "7Yvs7a7nr99q"
      }
    },
    {
      "cell_type": "markdown",
      "source": [],
      "metadata": {
        "id": "W-hnVf8UpKNs"
      }
    },
    {
      "cell_type": "code",
      "source": [
        "# prompt: generate the code to Plot the distribution of category.\n",
        "\n",
        "# Plot the distribution of Product Category\n",
        "plt.figure(figsize=(10, 6))\n",
        "sns.countplot(x='product_category', data=data)\n",
        "plt.title('Distribution of Product Category')\n",
        "plt.xlabel('Product Category')\n",
        "plt.ylabel('Count')\n",
        "plt.xticks(rotation=45, ha='right')  # Rotate x-axis labels for better readability\n",
        "plt.show()\n"
      ],
      "metadata": {
        "colab": {
          "base_uri": "https://localhost:8080/",
          "height": 613
        },
        "id": "HejkNa3CsBCn",
        "outputId": "64708448-5a91-49b9-9450-9cb06fbf1a9e"
      },
      "execution_count": null,
      "outputs": [
        {
          "output_type": "display_data",
          "data": {
            "text/plain": [
              "<Figure size 1000x600 with 1 Axes>"
            ],
            "image/png": "[encoded data removed]"
          },
          "metadata": {}
        }
      ]
    },
    {
      "cell_type": "markdown",
      "source": [
        "* Region"
      ],
      "metadata": {
        "id": "r7KnGp29sJib"
      }
    },
    {
      "cell_type": "code",
      "source": [
        "# prompt: generate the code to Plot the distribution of Region\n",
        "\n",
        "# Assuming your DataFrame has a column named 'product_category' (from your previous code)\n",
        "# and you want to plot its distribution\n",
        "\n",
        "# Plot the distribution of Product Category instead of Region\n",
        "plt.figure(figsize=(10, 6))\n",
        "sns.countplot(x='product_category', data=data)  # Change 'Region' to 'product_category'\n",
        "plt.title('Distribution of Product Category')  # Update title accordingly\n",
        "plt.xlabel('Product Category')  # Update x-axis label\n",
        "plt.ylabel('Count')\n",
        "plt.xticks(rotation=45, ha='right')  # Rotate x-axis labels for better readability\n",
        "plt.show()"
      ],
      "metadata": {
        "colab": {
          "base_uri": "https://localhost:8080/",
          "height": 613
        },
        "id": "CZHQS_bTsM9z",
        "outputId": "f8f2b595-2167-4e85-eff7-2842fca65369"
      },
      "execution_count": null,
      "outputs": [
        {
          "output_type": "display_data",
          "data": {
            "text/plain": [
              "<Figure size 1000x600 with 1 Axes>"
            ],
            "image/png": "[encoded data removed]"
          },
          "metadata": {}
        }
      ]
    },
    {
      "cell_type": "markdown",
      "source": [
        "b) Identify the most frequently purchased product category."
      ],
      "metadata": {
        "id": "c_qKnjkYsjdk"
      }
    },
    {
      "cell_type": "code",
      "source": [
        "# prompt: generate a code to Identify the most frequently purchased product category.\n",
        "\n",
        "# Assuming 'data' DataFrame from the previous code block is available\n",
        "\n",
        "# Identify the most frequently purchased product category\n",
        "most_frequent_category = data['product_category'].mode()[0]\n",
        "print(f\"The most frequently purchased product category is: {most_frequent_category}\")\n"
      ],
      "metadata": {
        "colab": {
          "base_uri": "https://localhost:8080/"
        },
        "id": "e6W5aPFAsmtS",
        "outputId": "2f3a175c-956c-4749-a354-f1886cc893c7"
      },
      "execution_count": null,
      "outputs": [
        {
          "output_type": "stream",
          "name": "stdout",
          "text": [
            "The most frequently purchased product category is: Clothing\n"
          ]
        }
      ]
    },
    {
      "cell_type": "markdown",
      "source": [
        "c) Find the region contributing the most to sales."
      ],
      "metadata": {
        "id": "Znf1ENnqsvRB"
      }
    },
    {
      "cell_type": "code",
      "source": [
        "# prompt: generate a code to Find the region contributing the most to sales.\n",
        "\n",
        "# Assuming your DataFrame has a column named 'product_category' and 'total_amount'\n",
        "# Since 'Region' column is not available, using 'product_category' instead\n",
        "\n",
        "# Group by product_category and sum total sales\n",
        "region_sales = data.groupby('product_category')['total_amount'].sum()\n",
        "\n",
        "# Find the product_category with the highest sales\n",
        "highest_sales_region = region_sales.idxmax()\n",
        "highest_sales_amount = region_sales.max()\n",
        "\n",
        "print(f\"The product category contributing the most to sales is: {highest_sales_region}\")\n",
        "print(f\"Total sales from this category: {highest_sales_amount}\")"
      ],
      "metadata": {
        "colab": {
          "base_uri": "https://localhost:8080/"
        },
        "id": "gU706CNpsw93",
        "outputId": "9196ccfc-b30c-42b5-f904-4125ab404e06"
      },
      "execution_count": null,
      "outputs": [
        {
          "output_type": "stream",
          "name": "stdout",
          "text": [
            "The product category contributing the most to sales is: Electronics\n",
            "Total sales from this category: 156905\n"
          ]
        }
      ]
    },
    {
      "cell_type": "markdown",
      "source": [
        "# Deliverables:\n",
        "\n",
        "* Distribution plots\n",
        "\n",
        "1. Quantity Distribution – The histogram shows how frequently different quantities were purchased. The KDE (Kernel Density Estimate) curve helps visualize the distribution shape.\n",
        "2. Product Category Distribution – The bar chart shows the number of transactions for each product category"
      ],
      "metadata": {
        "id": "E7ehuRHKtkkY"
      }
    },
    {
      "cell_type": "markdown",
      "source": [
        "* Insights on top product categories and regions."
      ],
      "metadata": {
        "id": "2yLdFeQpugak"
      }
    },
    {
      "cell_type": "code",
      "source": [
        "# prompt: Insights on top product categories and regions.\n",
        "\n",
        "# Assuming 'data' DataFrame from the previous code block is available\n",
        "import pandas as pd\n",
        "import matplotlib.pyplot as plt\n",
        "import seaborn as sns\n",
        "# If 'data' is not available, load it here:\n",
        "data = pd.read_csv(\"/content/retail_sales_dataset.csv\")\n",
        "\n",
        "# Group by product category and sum total sales\n",
        "# Changed 'product_category' to 'Product Category'\n",
        "category_sales = data.groupby('Product Category')['Total Amount'].sum()\n",
        "\n",
        "# Find the top 5 product categories by sales\n",
        "top_categories = category_sales.nlargest(5)\n",
        "\n",
        "print(\"Top 5 Product Categories by Sales:\")\n",
        "print(top_categories)\n",
        "\n",
        "# Plotting top categories\n",
        "plt.figure(figsize=(10, 6))\n",
        "sns.barplot(x=top_categories.index, y=top_categories.values)\n",
        "plt.title('Top 5 Product Categories by Total Sales')\n",
        "plt.xlabel('Product Category')\n",
        "plt.ylabel('Total Sales')\n",
        "plt.xticks(rotation=45, ha='right')\n",
        "plt.show()\n",
        "\n",
        "\n",
        "# Since there's no region data, analyzing sales by customer age instead.\n",
        "# You can replace this with region analysis if that column exists.\n",
        "age_group_sales = data.groupby(pd.cut(data['Age'], bins=5))['Total Amount'].sum()\n",
        "\n",
        "print(\"\\nSales by Customer Age Group:\")\n",
        "print(age_group_sales)\n",
        "\n",
        "# Plot sales by age group\n",
        "plt.figure(figsize=(10, 6))\n",
        "sns.barplot(x=age_group_sales.index.astype(str), y=age_group_sales.values)\n",
        "plt.title('Total Sales by Customer Age Group')\n",
        "plt.xlabel('Age Group')\n",
        "plt.ylabel('Total Sales')\n",
        "plt.xticks(rotation=45, ha='right')\n",
        "plt.show()"
      ],
      "metadata": {
        "colab": {
          "base_uri": "https://localhost:8080/",
          "height": 1000
        },
        "id": "4AtazI4ATXP3",
        "outputId": "49767dac-ad7a-418e-c4d9-af753359899d"
      },
      "execution_count": 3,
      "outputs": [
        {
          "output_type": "stream",
          "name": "stdout",
          "text": [
            "Top 5 Product Categories by Sales:\n",
            "Product Category\n",
            "Electronics    156905\n",
            "Clothing       155580\n",
            "Beauty         143515\n",
            "Name: Total Amount, dtype: int64\n"
          ]
        },
        {
          "output_type": "display_data",
          "data": {
            "text/plain": [
              "<Figure size 1000x600 with 1 Axes>"
            ],
            "image/png": "[encoded data removed]"
          },
          "metadata": {}
        },
        {
          "output_type": "stream",
          "name": "stderr",
          "text": [
            "<ipython-input-3-5f96bebec76a>:32: FutureWarning: The default of observed=False is deprecated and will be changed to True in a future version of pandas. Pass observed=False to retain current behavior or observed=True to adopt the future default and silence this warning.\n",
            "  age_group_sales = data.groupby(pd.cut(data['Age'], bins=5))['Total Amount'].sum()\n"
          ]
        },
        {
          "output_type": "stream",
          "name": "stdout",
          "text": [
            "\n",
            "Sales by Customer Age Group:\n",
            "Age\n",
            "(17.954, 27.2]    107915\n",
            "(27.2, 36.4]       84220\n",
            "(36.4, 45.6]       82765\n",
            "(45.6, 54.8]       90910\n",
            "(54.8, 64.0]       90190\n",
            "Name: Total Amount, dtype: int64\n"
          ]
        },
        {
          "output_type": "display_data",
          "data": {
            "text/plain": [
              "<Figure size 1000x600 with 1 Axes>"
            ],
            "image/png": "[encoded data removed]"
          },
          "metadata": {}
        }
      ]
    },
    {
      "cell_type": "markdown",
      "source": [
        "# 4. Timestamp Transformation\n",
        "a) Convert the Order Date column to a datetime format."
      ],
      "metadata": {
        "id": "1SHL37H8UdxT"
      }
    },
    {
      "cell_type": "code",
      "source": [
        "# prompt: generate a code for to Convert the Order Date column to a datetime format.\n",
        "\n",
        "# Assuming 'data' DataFrame from the previous code block is available\n",
        "# If 'data' is not available, load it here:\n",
        "data = pd.read_csv(\"/content/retail_sales_dataset.csv\")\n",
        "\n",
        "# Convert the 'Date' column to datetime format\n",
        "data['Date'] = pd.to_datetime(data['Date'])\n",
        "\n",
        "# Display the updated DataFrame to verify the change\n",
        "print(data.head())\n",
        "data.dtypes\n"
      ],
      "metadata": {
        "colab": {
          "base_uri": "https://localhost:8080/",
          "height": 592
        },
        "id": "tFuFDaxWUjjA",
        "outputId": "a8e8eb9f-087f-4613-a001-db359991034d"
      },
      "execution_count": 4,
      "outputs": [
        {
          "output_type": "stream",
          "name": "stdout",
          "text": [
            "   Transaction ID       Date Customer ID  Gender  Age Product Category  \\\n",
            "0               1 2023-11-24     CUST001    Male   34           Beauty   \n",
            "1               2 2023-02-27     CUST002  Female   26         Clothing   \n",
            "2               3 2023-01-13     CUST003    Male   50      Electronics   \n",
            "3               4 2023-05-21     CUST004    Male   37         Clothing   \n",
            "4               5 2023-05-06     CUST005    Male   30           Beauty   \n",
            "\n",
            "   Quantity  Price per Unit  Total Amount  \n",
            "0         3              50           150  \n",
            "1         2             500          1000  \n",
            "2         1              30            30  \n",
            "3         1             500           500  \n",
            "4         2              50           100  \n"
          ]
        },
        {
          "output_type": "execute_result",
          "data": {
            "text/plain": [
              "Transaction ID               int64\n",
              "Date                datetime64[ns]\n",
              "Customer ID                 object\n",
              "Gender                      object\n",
              "Age                          int64\n",
              "Product Category            object\n",
              "Quantity                     int64\n",
              "Price per Unit               int64\n",
              "Total Amount                 int64\n",
              "dtype: object"
            ],
            "text/html": [
              "<div>\n",
              "<style scoped>\n",
              "    .dataframe tbody tr th:only-of-type {\n",
              "        vertical-align: middle;\n",
              "    }\n",
              "\n",
              "    .dataframe tbody tr th {\n",
              "        vertical-align: top;\n",
              "    }\n",
              "\n",
              "    .dataframe thead th {\n",
              "        text-align: right;\n",
              "    }\n",
              "</style>\n",
              "<table border=\"1\" class=\"dataframe\">\n",
              "  <thead>\n",
              "    <tr style=\"text-align: right;\">\n",
              "      <th></th>\n",
              "      <th>0</th>\n",
              "    </tr>\n",
              "  </thead>\n",
              "  <tbody>\n",
              "    <tr>\n",
              "      <th>Transaction ID</th>\n",
              "      <td>int64</td>\n",
              "    </tr>\n",
              "    <tr>\n",
              "      <th>Date</th>\n",
              "      <td>datetime64[ns]</td>\n",
              "    </tr>\n",
              "    <tr>\n",
              "      <th>Customer ID</th>\n",
              "      <td>object</td>\n",
              "    </tr>\n",
              "    <tr>\n",
              "      <th>Gender</th>\n",
              "      <td>object</td>\n",
              "    </tr>\n",
              "    <tr>\n",
              "      <th>Age</th>\n",
              "      <td>int64</td>\n",
              "    </tr>\n",
              "    <tr>\n",
              "      <th>Product Category</th>\n",
              "      <td>object</td>\n",
              "    </tr>\n",
              "    <tr>\n",
              "      <th>Quantity</th>\n",
              "      <td>int64</td>\n",
              "    </tr>\n",
              "    <tr>\n",
              "      <th>Price per Unit</th>\n",
              "      <td>int64</td>\n",
              "    </tr>\n",
              "    <tr>\n",
              "      <th>Total Amount</th>\n",
              "      <td>int64</td>\n",
              "    </tr>\n",
              "  </tbody>\n",
              "</table>\n",
              "</div><br><label><b>dtype:</b> object</label>"
            ]
          },
          "metadata": {},
          "execution_count": 4
        }
      ]
    },
    {
      "cell_type": "markdown",
      "source": [
        "b)  Create new columns:\n",
        "\n",
        "* Day of the week."
      ],
      "metadata": {
        "id": "K78b1MxTU1oc"
      }
    },
    {
      "cell_type": "code",
      "source": [
        "# prompt: generate a code for to create new column for day of the week\n",
        "\n",
        "# Assuming 'data' DataFrame from the previous code block is available\n",
        "# If 'data' is not available, load it here:\n",
        "data = pd.read_csv(\"/content/retail_sales_dataset.csv\")\n",
        "\n",
        "# Convert the 'Date' column to datetime format if not already done\n",
        "data['Date'] = pd.to_datetime(data['Date'])\n",
        "\n",
        "# Create a new column 'day_of_week' representing the day of the week\n",
        "data['day_of_week'] = data['Date'].dt.day_name()\n",
        "\n",
        "# Display the updated DataFrame to verify the change\n",
        "print(data.head())\n"
      ],
      "metadata": {
        "colab": {
          "base_uri": "https://localhost:8080/"
        },
        "id": "WNmnpCLEVLZT",
        "outputId": "2d87747d-918e-4799-d3b2-143bd890572e"
      },
      "execution_count": 5,
      "outputs": [
        {
          "output_type": "stream",
          "name": "stdout",
          "text": [
            "   Transaction ID       Date Customer ID  Gender  Age Product Category  \\\n",
            "0               1 2023-11-24     CUST001    Male   34           Beauty   \n",
            "1               2 2023-02-27     CUST002  Female   26         Clothing   \n",
            "2               3 2023-01-13     CUST003    Male   50      Electronics   \n",
            "3               4 2023-05-21     CUST004    Male   37         Clothing   \n",
            "4               5 2023-05-06     CUST005    Male   30           Beauty   \n",
            "\n",
            "   Quantity  Price per Unit  Total Amount day_of_week  \n",
            "0         3              50           150      Friday  \n",
            "1         2             500          1000      Monday  \n",
            "2         1              30            30      Friday  \n",
            "3         1             500           500      Sunday  \n",
            "4         2              50           100    Saturday  \n"
          ]
        }
      ]
    },
    {
      "cell_type": "markdown",
      "source": [
        "* Day of the month"
      ],
      "metadata": {
        "id": "GYBzNPgBVmLi"
      }
    },
    {
      "cell_type": "code",
      "source": [
        "# prompt: generate a code for to create new column for day of the month\n",
        "\n",
        "# Assuming 'data' DataFrame from the previous code block is available\n",
        "# If 'data' is not available, load it here:\n",
        "data = pd.read_csv(\"/content/retail_sales_dataset.csv\")\n",
        "\n",
        "# Convert the 'Date' column to datetime format if not already done\n",
        "data['Date'] = pd.to_datetime(data['Date'])\n",
        "\n",
        "# Create a new column 'day_of_month' representing the day of the month\n",
        "data['day_of_month'] = data['Date'].dt.day\n",
        "\n",
        "# Display the updated DataFrame to verify the change\n",
        "print(data.head())\n"
      ],
      "metadata": {
        "colab": {
          "base_uri": "https://localhost:8080/"
        },
        "id": "fIppvvMwVqWF",
        "outputId": "00d133fb-b32b-4642-bbe8-76ab5093187f"
      },
      "execution_count": 6,
      "outputs": [
        {
          "output_type": "stream",
          "name": "stdout",
          "text": [
            "   Transaction ID       Date Customer ID  Gender  Age Product Category  \\\n",
            "0               1 2023-11-24     CUST001    Male   34           Beauty   \n",
            "1               2 2023-02-27     CUST002  Female   26         Clothing   \n",
            "2               3 2023-01-13     CUST003    Male   50      Electronics   \n",
            "3               4 2023-05-21     CUST004    Male   37         Clothing   \n",
            "4               5 2023-05-06     CUST005    Male   30           Beauty   \n",
            "\n",
            "   Quantity  Price per Unit  Total Amount  day_of_month  \n",
            "0         3              50           150            24  \n",
            "1         2             500          1000            27  \n",
            "2         1              30            30            13  \n",
            "3         1             500           500            21  \n",
            "4         2              50           100             6  \n"
          ]
        }
      ]
    },
    {
      "cell_type": "markdown",
      "source": [
        "* Month"
      ],
      "metadata": {
        "id": "AjgR65SiV5cw"
      }
    },
    {
      "cell_type": "code",
      "source": [
        "# prompt: generate a code for to create new column for Month\n",
        "\n",
        "# Assuming 'data' DataFrame from the previous code block is available\n",
        "# If 'data' is not available, load it here:\n",
        "data = pd.read_csv(\"/content/retail_sales_dataset.csv\")\n",
        "\n",
        "# Convert the 'Date' column to datetime format if not already done\n",
        "data['Date'] = pd.to_datetime(data['Date'])\n",
        "\n",
        "# Create a new column 'month' representing the month\n",
        "data['month'] = data['Date'].dt.month\n",
        "\n",
        "# Display the updated DataFrame to verify the change\n",
        "print(data.head())\n"
      ],
      "metadata": {
        "colab": {
          "base_uri": "https://localhost:8080/"
        },
        "id": "5P3Qy61uV-bP",
        "outputId": "1772ff2a-55f2-4a32-8f17-aaf7c8599d8b"
      },
      "execution_count": 7,
      "outputs": [
        {
          "output_type": "stream",
          "name": "stdout",
          "text": [
            "   Transaction ID       Date Customer ID  Gender  Age Product Category  \\\n",
            "0               1 2023-11-24     CUST001    Male   34           Beauty   \n",
            "1               2 2023-02-27     CUST002  Female   26         Clothing   \n",
            "2               3 2023-01-13     CUST003    Male   50      Electronics   \n",
            "3               4 2023-05-21     CUST004    Male   37         Clothing   \n",
            "4               5 2023-05-06     CUST005    Male   30           Beauty   \n",
            "\n",
            "   Quantity  Price per Unit  Total Amount  month  \n",
            "0         3              50           150     11  \n",
            "1         2             500          1000      2  \n",
            "2         1              30            30      1  \n",
            "3         1             500           500      5  \n",
            "4         2              50           100      5  \n"
          ]
        }
      ]
    },
    {
      "cell_type": "markdown",
      "source": [
        "* Year"
      ],
      "metadata": {
        "id": "BQ_KmVr1WIzj"
      }
    },
    {
      "cell_type": "code",
      "source": [
        "# prompt: generate a code for to create new column for Year\n",
        "\n",
        "# Assuming 'data' DataFrame from the previous code block is available\n",
        "# If 'data' is not available, load it here:\n",
        "data = pd.read_csv(\"/content/retail_sales_dataset.csv\")\n",
        "\n",
        "# Convert the 'Date' column to datetime format if not already done\n",
        "data['Date'] = pd.to_datetime(data['Date'])\n",
        "\n",
        "# Create a new column 'year' representing the year\n",
        "data['year'] = data['Date'].dt.year\n",
        "\n",
        "# Display the updated DataFrame to verify the change\n",
        "print(data.head())\n"
      ],
      "metadata": {
        "colab": {
          "base_uri": "https://localhost:8080/"
        },
        "id": "w7LBPwigWK2i",
        "outputId": "5cb781de-227a-47f4-9219-08ce5e2fba3b"
      },
      "execution_count": 8,
      "outputs": [
        {
          "output_type": "stream",
          "name": "stdout",
          "text": [
            "   Transaction ID       Date Customer ID  Gender  Age Product Category  \\\n",
            "0               1 2023-11-24     CUST001    Male   34           Beauty   \n",
            "1               2 2023-02-27     CUST002  Female   26         Clothing   \n",
            "2               3 2023-01-13     CUST003    Male   50      Electronics   \n",
            "3               4 2023-05-21     CUST004    Male   37         Clothing   \n",
            "4               5 2023-05-06     CUST005    Male   30           Beauty   \n",
            "\n",
            "   Quantity  Price per Unit  Total Amount  year  \n",
            "0         3              50           150  2023  \n",
            "1         2             500          1000  2023  \n",
            "2         1              30            30  2023  \n",
            "3         1             500           500  2023  \n",
            "4         2              50           100  2023  \n"
          ]
        }
      ]
    },
    {
      "cell_type": "markdown",
      "source": [
        "* Season (Winter, Spring, Summer, Fall)."
      ],
      "metadata": {
        "id": "998LX_M1WVM-"
      }
    },
    {
      "cell_type": "code",
      "source": [
        "# prompt: generate a code for to create new cloumn Season (Winter, Spring, Summer, Fall).\n",
        "\n",
        "# Assuming 'data' DataFrame from the previous code block is available\n",
        "# If 'data' is not available, load it here:\n",
        "data = pd.read_csv(\"/content/retail_sales_dataset.csv\")\n",
        "\n",
        "# Convert the 'Date' column to datetime format if not already done\n",
        "data['Date'] = pd.to_datetime(data['Date'])\n",
        "\n",
        "# Create a new column 'season' representing the season\n",
        "def determine_season(month):\n",
        "    if month in [12, 1, 2]:\n",
        "        return 'Winter'\n",
        "    elif month in [3, 4, 5]:\n",
        "        return 'Spring'\n",
        "    elif month in [6, 7, 8]:\n",
        "        return 'Summer'\n",
        "    else:\n",
        "        return 'Fall'\n",
        "\n",
        "data['Season'] = data['Date'].dt.month.apply(determine_season)\n",
        "\n",
        "# Display the updated DataFrame to verify the change\n",
        "print(data.head())\n"
      ],
      "metadata": {
        "colab": {
          "base_uri": "https://localhost:8080/"
        },
        "id": "-Z1xyKjeWW8-",
        "outputId": "21ebac7a-c5af-463a-8b71-72bd71eac28a"
      },
      "execution_count": 9,
      "outputs": [
        {
          "output_type": "stream",
          "name": "stdout",
          "text": [
            "   Transaction ID       Date Customer ID  Gender  Age Product Category  \\\n",
            "0               1 2023-11-24     CUST001    Male   34           Beauty   \n",
            "1               2 2023-02-27     CUST002  Female   26         Clothing   \n",
            "2               3 2023-01-13     CUST003    Male   50      Electronics   \n",
            "3               4 2023-05-21     CUST004    Male   37         Clothing   \n",
            "4               5 2023-05-06     CUST005    Male   30           Beauty   \n",
            "\n",
            "   Quantity  Price per Unit  Total Amount  Season  \n",
            "0         3              50           150    Fall  \n",
            "1         2             500          1000  Winter  \n",
            "2         1              30            30  Winter  \n",
            "3         1             500           500  Spring  \n",
            "4         2              50           100  Spring  \n"
          ]
        }
      ]
    },
    {
      "cell_type": "markdown",
      "source": [
        "c)  Set the Order Date column as the DataFrame index."
      ],
      "metadata": {
        "id": "v8qAUzsSWnjK"
      }
    },
    {
      "cell_type": "code",
      "source": [
        "# prompt: generate a code for to Set the Order Date column as the DataFrame index.\n",
        "\n",
        "# Assuming 'data' DataFrame from the previous code block is available\n",
        "# If 'data' is not available, load it here:\n",
        "data = pd.read_csv(\"/content/retail_sales_dataset.csv\")\n",
        "\n",
        "# Convert the 'Date' column to datetime format if not already done\n",
        "data['Date'] = pd.to_datetime(data['Date'])\n",
        "\n",
        "# Set the 'Date' column as the index\n",
        "data = data.set_index('Date')\n",
        "\n",
        "# Display the updated DataFrame to verify the change\n",
        "print(data.head())\n"
      ],
      "metadata": {
        "colab": {
          "base_uri": "https://localhost:8080/"
        },
        "id": "pFnxVRxzWrFy",
        "outputId": "271279f1-ac34-47de-e8ef-e4aae1346acf"
      },
      "execution_count": 10,
      "outputs": [
        {
          "output_type": "stream",
          "name": "stdout",
          "text": [
            "            Transaction ID Customer ID  Gender  Age Product Category  \\\n",
            "Date                                                                   \n",
            "2023-11-24               1     CUST001    Male   34           Beauty   \n",
            "2023-02-27               2     CUST002  Female   26         Clothing   \n",
            "2023-01-13               3     CUST003    Male   50      Electronics   \n",
            "2023-05-21               4     CUST004    Male   37         Clothing   \n",
            "2023-05-06               5     CUST005    Male   30           Beauty   \n",
            "\n",
            "            Quantity  Price per Unit  Total Amount  \n",
            "Date                                                \n",
            "2023-11-24         3              50           150  \n",
            "2023-02-27         2             500          1000  \n",
            "2023-01-13         1              30            30  \n",
            "2023-05-21         1             500           500  \n",
            "2023-05-06         2              50           100  \n"
          ]
        }
      ]
    },
    {
      "cell_type": "markdown",
      "source": [
        "# Deliverables:\n",
        "* Updated DataFrame with new columns."
      ],
      "metadata": {
        "id": "WK0c_NwfW8l0"
      }
    },
    {
      "cell_type": "code",
      "source": [
        "# prompt: Updated DataFrame with new columns.\n",
        "\n",
        "# Assuming 'data' DataFrame from the previous code block is available\n",
        "# If 'data' is not available, load it here:\n",
        "data = pd.read_csv(\"/content/retail_sales_dataset.csv\")\n",
        "\n",
        "# Convert the 'Date' column to datetime format if not already done\n",
        "data['Date'] = pd.to_datetime(data['Date'])\n",
        "\n",
        "# Create new columns (if they don't already exist)\n",
        "if 'day_of_week' not in data.columns:\n",
        "    data['day_of_week'] = data['Date'].dt.day_name()\n",
        "if 'day_of_month' not in data.columns:\n",
        "    data['day_of_month'] = data['Date'].dt.day\n",
        "if 'month' not in data.columns:\n",
        "    data['month'] = data['Date'].dt.month\n",
        "if 'year' not in data.columns:\n",
        "    data['year'] = data['Date'].dt.year\n",
        "if 'Season' not in data.columns:\n",
        "    def determine_season(month):\n",
        "        if month in [12, 1, 2]:\n",
        "            return 'Winter'\n",
        "        elif month in [3, 4, 5]:\n",
        "            return 'Spring'\n",
        "        elif month in [6, 7, 8]:\n",
        "            return 'Summer'\n",
        "        else:\n",
        "            return 'Fall'\n",
        "    data['Season'] = data['Date'].dt.month.apply(determine_season)\n",
        "\n",
        "# Set the 'Date' column as the index (if not already set)\n",
        "if not data.index.equals(data['Date']):\n",
        "    data = data.set_index('Date')\n",
        "\n",
        "# Display the updated DataFrame\n",
        "print(data.head())\n"
      ],
      "metadata": {
        "colab": {
          "base_uri": "https://localhost:8080/"
        },
        "id": "CjeiR6GwXHuI",
        "outputId": "73ae6210-f024-4ea3-8f0a-a16fbef32303"
      },
      "execution_count": 11,
      "outputs": [
        {
          "output_type": "stream",
          "name": "stdout",
          "text": [
            "            Transaction ID Customer ID  Gender  Age Product Category  \\\n",
            "Date                                                                   \n",
            "2023-11-24               1     CUST001    Male   34           Beauty   \n",
            "2023-02-27               2     CUST002  Female   26         Clothing   \n",
            "2023-01-13               3     CUST003    Male   50      Electronics   \n",
            "2023-05-21               4     CUST004    Male   37         Clothing   \n",
            "2023-05-06               5     CUST005    Male   30           Beauty   \n",
            "\n",
            "            Quantity  Price per Unit  Total Amount day_of_week  day_of_month  \\\n",
            "Date                                                                           \n",
            "2023-11-24         3              50           150      Friday            24   \n",
            "2023-02-27         2             500          1000      Monday            27   \n",
            "2023-01-13         1              30            30      Friday            13   \n",
            "2023-05-21         1             500           500      Sunday            21   \n",
            "2023-05-06         2              50           100    Saturday             6   \n",
            "\n",
            "            month  year  Season  \n",
            "Date                             \n",
            "2023-11-24     11  2023    Fall  \n",
            "2023-02-27      2  2023  Winter  \n",
            "2023-01-13      1  2023  Winter  \n",
            "2023-05-21      5  2023  Spring  \n",
            "2023-05-06      5  2023  Spring  \n"
          ]
        }
      ]
    },
    {
      "cell_type": "markdown",
      "source": [
        "* A few sample rows to verify the transformations."
      ],
      "metadata": {
        "id": "7Wa3sdB_XV4D"
      }
    },
    {
      "cell_type": "code",
      "source": [
        "# prompt: A few sample rows to verify the transformations.\n",
        "\n",
        "# Assuming 'data' DataFrame from the previous code block is available\n",
        "# If 'data' is not available, load it here:\n",
        "data = pd.read_csv(\"/content/retail_sales_dataset.csv\")\n",
        "\n",
        "# Convert the 'Date' column to datetime format if not already done\n",
        "data['Date'] = pd.to_datetime(data['Date'])\n",
        "\n",
        "# Create new columns (if they don't already exist)\n",
        "if 'day_of_week' not in data.columns:\n",
        "    data['day_of_week'] = data['Date'].dt.day_name()\n",
        "if 'day_of_month' not in data.columns:\n",
        "    data['day_of_month'] = data['Date'].dt.day\n",
        "if 'month' not in data.columns:\n",
        "    data['month'] = data['Date'].dt.month\n",
        "if 'year' not in data.columns:\n",
        "    data['year'] = data['Date'].dt.year\n",
        "if 'Season' not in data.columns:\n",
        "    def determine_season(month):\n",
        "        if month in [12, 1, 2]:\n",
        "            return 'Winter'\n",
        "        elif month in [3, 4, 5]:\n",
        "            return 'Spring'\n",
        "        elif month in [6, 7, 8]:\n",
        "            return 'Summer'\n",
        "        else:\n",
        "            return 'Fall'\n",
        "    data['Season'] = data['Date'].dt.month.apply(determine_season)\n",
        "\n",
        "# Set the 'Date' column as the index (if not already set)\n",
        "if not data.index.equals(data['Date']):\n",
        "    data = data.set_index('Date')\n",
        "\n",
        "# Display the first 5 rows to verify transformations\n",
        "print(data.head())\n"
      ],
      "metadata": {
        "colab": {
          "base_uri": "https://localhost:8080/"
        },
        "id": "sXde2DdXXY6c",
        "outputId": "ddd8e5dd-a12a-45f2-dc5f-dca82e5378ac"
      },
      "execution_count": 12,
      "outputs": [
        {
          "output_type": "stream",
          "name": "stdout",
          "text": [
            "            Transaction ID Customer ID  Gender  Age Product Category  \\\n",
            "Date                                                                   \n",
            "2023-11-24               1     CUST001    Male   34           Beauty   \n",
            "2023-02-27               2     CUST002  Female   26         Clothing   \n",
            "2023-01-13               3     CUST003    Male   50      Electronics   \n",
            "2023-05-21               4     CUST004    Male   37         Clothing   \n",
            "2023-05-06               5     CUST005    Male   30           Beauty   \n",
            "\n",
            "            Quantity  Price per Unit  Total Amount day_of_week  day_of_month  \\\n",
            "Date                                                                           \n",
            "2023-11-24         3              50           150      Friday            24   \n",
            "2023-02-27         2             500          1000      Monday            27   \n",
            "2023-01-13         1              30            30      Friday            13   \n",
            "2023-05-21         1             500           500      Sunday            21   \n",
            "2023-05-06         2              50           100    Saturday             6   \n",
            "\n",
            "            month  year  Season  \n",
            "Date                             \n",
            "2023-11-24     11  2023    Fall  \n",
            "2023-02-27      2  2023  Winter  \n",
            "2023-01-13      1  2023  Winter  \n",
            "2023-05-21      5  2023  Spring  \n",
            "2023-05-06      5  2023  Spring  \n"
          ]
        }
      ]
    },
    {
      "cell_type": "markdown",
      "source": [
        "# 5. Correlation Analysis\n",
        "a) Compute the correlation matrix for numerical columns."
      ],
      "metadata": {
        "id": "5WqKPcleYEfw"
      }
    },
    {
      "cell_type": "code",
      "source": [
        "# prompt: geneeate a code for for to Compute the correlation matrix for numerical columns.\n",
        "\n",
        "# Assuming 'data' DataFrame from the previous code block is available\n",
        "# If 'data' is not available, load it here:\n",
        "data = pd.read_csv(\"/content/retail_sales_dataset.csv\")\n",
        "\n",
        "# Convert the 'Date' column to datetime format if not already done\n",
        "data['Date'] = pd.to_datetime(data['Date'])\n",
        "\n",
        "# Select numerical columns for correlation analysis\n",
        "numerical_cols = data.select_dtypes(include=['number'])\n",
        "\n",
        "# Compute the correlation matrix\n",
        "correlation_matrix = numerical_cols.corr()\n",
        "\n",
        "# Display the correlation matrix\n",
        "print(correlation_matrix)\n",
        "\n",
        "# You can visualize the correlation matrix using a heatmap\n",
        "plt.figure(figsize=(10, 8))\n",
        "sns.heatmap(correlation_matrix, annot=True, cmap='coolwarm', fmt=\".2f\")\n",
        "plt.title('Correlation Matrix of Numerical Features')\n",
        "plt.show()\n"
      ],
      "metadata": {
        "colab": {
          "base_uri": "https://localhost:8080/",
          "height": 925
        },
        "id": "ISqttsXrYKcd",
        "outputId": "d0a4cff7-151c-4754-82c3-596bb72a5778"
      },
      "execution_count": 13,
      "outputs": [
        {
          "output_type": "stream",
          "name": "stdout",
          "text": [
            "                Transaction ID       Age  Quantity  Price per Unit  \\\n",
            "Transaction ID        1.000000  0.065191 -0.026623       -0.060837   \n",
            "Age                   0.065191  1.000000 -0.023737       -0.038423   \n",
            "Quantity             -0.026623 -0.023737  1.000000        0.017501   \n",
            "Price per Unit       -0.060837 -0.038423  0.017501        1.000000   \n",
            "Total Amount         -0.075034 -0.060568  0.373707        0.851925   \n",
            "\n",
            "                Total Amount  \n",
            "Transaction ID     -0.075034  \n",
            "Age                -0.060568  \n",
            "Quantity            0.373707  \n",
            "Price per Unit      0.851925  \n",
            "Total Amount        1.000000  \n"
          ]
        },
        {
          "output_type": "display_data",
          "data": {
            "text/plain": [
              "<Figure size 1000x800 with 2 Axes>"
            ],
            "image/png": "[encoded data removed]"
          },
          "metadata": {}
        }
      ]
    },
    {
      "cell_type": "markdown",
      "source": [
        "b) Visualize the correlation matrix using a heatmap."
      ],
      "metadata": {
        "id": "BJAJEWdiYkdR"
      }
    },
    {
      "cell_type": "code",
      "source": [
        "# prompt: generate a code for to Visualize the correlation matrix using a heatmap.\n",
        "\n",
        "# Assuming 'data' DataFrame and 'correlation_matrix' from the previous code block are available\n",
        "# If 'data' is not available, load it here:\n",
        "# data = pd.read_csv(\"/content/retail_sales_dataset.csv\")\n",
        "\n",
        "# Select numerical columns for correlation analysis\n",
        "numerical_cols = data.select_dtypes(include=['number'])\n",
        "\n",
        "# Compute the correlation matrix (if not already computed)\n",
        "correlation_matrix = numerical_cols.corr()\n",
        "\n",
        "# Visualize the correlation matrix using a heatmap\n",
        "plt.figure(figsize=(10, 8))\n",
        "sns.heatmap(correlation_matrix, annot=True, cmap='coolwarm', fmt=\".2f\")\n",
        "plt.title('Correlation Matrix of Numerical Features')\n",
        "plt.show()\n"
      ],
      "metadata": {
        "colab": {
          "base_uri": "https://localhost:8080/",
          "height": 699
        },
        "id": "6nLwI0O0Ypus",
        "outputId": "ab9d31a7-581d-460b-d70d-9f30bdc83496"
      },
      "execution_count": 14,
      "outputs": [
        {
          "output_type": "display_data",
          "data": {
            "text/plain": [
              "<Figure size 1000x800 with 2 Axes>"
            ],
            "image/png": "[encoded data removed]"
          },
          "metadata": {}
        }
      ]
    },
    {
      "cell_type": "markdown",
      "source": [
        "c) Identify and discuss two key relationships from the heatmap."
      ],
      "metadata": {
        "id": "Qs1_R3-AY2QK"
      }
    },
    {
      "cell_type": "code",
      "source": [
        "# prompt:  Identify and discuss two key relationships from the heatmap.\n",
        "\n",
        "# Assuming 'data' DataFrame and 'correlation_matrix' from the previous code block are available\n",
        "# If 'data' is not available, load it here:\n",
        "# data = pd.read_csv(\"/content/retail_sales_dataset.csv\")\n",
        "\n",
        "# Select numerical columns for correlation analysis\n",
        "numerical_cols = data.select_dtypes(include=['number'])\n",
        "\n",
        "# Compute the correlation matrix (if not already computed)\n",
        "correlation_matrix = numerical_cols.corr()\n",
        "\n",
        "# Identify and discuss two key relationships from the heatmap\n",
        "print(\"Analysis of the heatmap:\")\n",
        "\n",
        "# Example 1: Relationship between Quantity and Total Amount\n",
        "quantity_total_amount_corr = correlation_matrix.loc['Quantity', 'Total Amount']\n",
        "print(f\"- The correlation between 'Quantity' and 'Total Amount' is {quantity_total_amount_corr:.2f}.\")\n",
        "if quantity_total_amount_corr > 0.5:\n",
        "  print(\"  This indicates a strong positive relationship: as the quantity of items purchased increases, the total amount spent tends to increase.\")\n",
        "elif quantity_total_amount_corr < -0.5:\n",
        "  print(\"  This indicates a strong negative relationship: as the quantity of items purchased increases, the total amount spent tends to decrease.\")\n",
        "else:\n",
        "  print(\"  The relationship is moderate or weak.\")\n",
        "\n",
        "\n",
        "# Example 2: Relationship between Price per Unit and Total Amount\n",
        "price_per_unit_total_amount_corr = correlation_matrix.loc['Price per Unit', 'Total Amount']\n",
        "print(f\"- The correlation between 'Price per Unit' and 'Total Amount' is {price_per_unit_total_amount_corr:.2f}.\")\n",
        "if price_per_unit_total_amount_corr > 0.5:\n",
        "    print(\" This indicates a strong positive relationship, as expected: higher price per unit generally leads to a higher total amount.\")\n",
        "elif price_per_unit_total_amount_corr < -0.5:\n",
        "    print(\"This indicates a strong negative relationship, which is unexpected and would require further investigation.\")\n",
        "else:\n",
        "    print(\"The relationship is moderate or weak, which also requires further investigation.\")\n",
        "\n",
        "# Add more analysis for other relationships as needed.\n"
      ],
      "metadata": {
        "colab": {
          "base_uri": "https://localhost:8080/"
        },
        "id": "QgSWtlN2ZF28",
        "outputId": "4ab3e4d2-f7c6-4d98-b093-3491821be7bd"
      },
      "execution_count": 15,
      "outputs": [
        {
          "output_type": "stream",
          "name": "stdout",
          "text": [
            "Analysis of the heatmap:\n",
            "- The correlation between 'Quantity' and 'Total Amount' is 0.37.\n",
            "  The relationship is moderate or weak.\n",
            "- The correlation between 'Price per Unit' and 'Total Amount' is 0.85.\n",
            " This indicates a strong positive relationship, as expected: higher price per unit generally leads to a higher total amount.\n"
          ]
        }
      ]
    },
    {
      "cell_type": "markdown",
      "source": [
        "# Deliverables:\n",
        "*  Heatmap visualization."
      ],
      "metadata": {
        "id": "LddTN9ipZqgY"
      }
    },
    {
      "cell_type": "code",
      "source": [
        "# prompt: Heatmap visualization\n",
        "\n",
        "import pandas as pd\n",
        "import matplotlib.pyplot as plt\n",
        "import seaborn as sns\n",
        "\n",
        "# Assuming 'data' DataFrame from the previous code block is available\n",
        "# If 'data' is not available, load it here:\n",
        "data = pd.read_csv(\"/content/retail_sales_dataset.csv\")\n",
        "\n",
        "# Select numerical columns for correlation analysis\n",
        "numerical_cols = data.select_dtypes(include=['number'])\n",
        "\n",
        "# Compute the correlation matrix (if not already computed)\n",
        "correlation_matrix = numerical_cols.corr()\n",
        "\n",
        "# Visualize the correlation matrix using a heatmap\n",
        "plt.figure(figsize=(10, 8))\n",
        "sns.heatmap(correlation_matrix, annot=True, cmap='coolwarm', fmt=\".2f\")\n",
        "plt.title('Correlation Matrix of Numerical Features')\n",
        "plt.show()\n"
      ],
      "metadata": {
        "colab": {
          "base_uri": "https://localhost:8080/",
          "height": 699
        },
        "id": "IhDa5mqeZual",
        "outputId": "85424de7-6eb9-403f-9580-449f3160d792"
      },
      "execution_count": 16,
      "outputs": [
        {
          "output_type": "display_data",
          "data": {
            "text/plain": [
              "<Figure size 1000x800 with 2 Axes>"
            ],
            "image/png": "[encoded data removed]"
          },
          "metadata": {}
        }
      ]
    },
    {
      "cell_type": "markdown",
      "source": [
        "* Observations about key correlations."
      ],
      "metadata": {
        "id": "JS_V7uFqZ73v"
      }
    },
    {
      "cell_type": "code",
      "source": [
        "# prompt: Observations about key correlations.\n",
        "\n",
        "# Assuming 'data' DataFrame and 'correlation_matrix' from the previous code block are available\n",
        "# If 'data' is not available, load it here:\n",
        "# data = pd.read_csv(\"/content/retail_sales_dataset.csv\")\n",
        "\n",
        "# Select numerical columns for correlation analysis\n",
        "numerical_cols = data.select_dtypes(include=['number'])\n",
        "\n",
        "# Compute the correlation matrix (if not already computed)\n",
        "correlation_matrix = numerical_cols.corr()\n",
        "\n",
        "# Identify and discuss two key relationships from the heatmap\n",
        "print(\"Analysis of the heatmap:\")\n",
        "\n",
        "# Example 1: Relationship between Quantity and Total Amount\n",
        "quantity_total_amount_corr = correlation_matrix.loc['Quantity', 'Total Amount']\n",
        "print(f\"- The correlation between 'Quantity' and 'Total Amount' is {quantity_total_amount_corr:.2f}.\")\n",
        "if quantity_total_amount_corr > 0.5:\n",
        "  print(\"  This indicates a strong positive relationship: as the quantity of items purchased increases, the total amount spent tends to increase.\")\n",
        "elif quantity_total_amount_corr < -0.5:\n",
        "  print(\"  This indicates a strong negative relationship: as the quantity of items purchased increases, the total amount spent tends to decrease.\")\n",
        "else:\n",
        "  print(\"  The relationship is moderate or weak.\")\n",
        "\n",
        "\n",
        "# Example 2: Relationship between Price per Unit and Total Amount\n",
        "price_per_unit_total_amount_corr = correlation_matrix.loc['Price per Unit', 'Total Amount']\n",
        "print(f\"- The correlation between 'Price per Unit' and 'Total Amount' is {price_per_unit_total_amount_corr:.2f}.\")\n",
        "if price_per_unit_total_amount_corr > 0.5:\n",
        "    print(\" This indicates a strong positive relationship, as expected: higher price per unit generally leads to a higher total amount.\")\n",
        "elif price_per_unit_total_amount_corr < -0.5:\n",
        "    print(\"This indicates a strong negative relationship, which is unexpected and would require further investigation.\")\n",
        "else:\n",
        "    print(\"The relationship is moderate or weak, which also requires further investigation.\")\n",
        "\n",
        "# Add more analysis for other relationships as needed.\n"
      ],
      "metadata": {
        "colab": {
          "base_uri": "https://localhost:8080/"
        },
        "id": "MbbKYXYtZ-Ue",
        "outputId": "239c200d-e457-460f-aded-05fddd2947ca"
      },
      "execution_count": 17,
      "outputs": [
        {
          "output_type": "stream",
          "name": "stdout",
          "text": [
            "Analysis of the heatmap:\n",
            "- The correlation between 'Quantity' and 'Total Amount' is 0.37.\n",
            "  The relationship is moderate or weak.\n",
            "- The correlation between 'Price per Unit' and 'Total Amount' is 0.85.\n",
            " This indicates a strong positive relationship, as expected: higher price per unit generally leads to a higher total amount.\n"
          ]
        }
      ]
    },
    {
      "cell_type": "markdown",
      "source": [
        "# 6. DataFrame Operations\n",
        "a)  Use loc to extract sales data for a specific date or range of dates."
      ],
      "metadata": {
        "id": "SG1JzeXhaRwq"
      }
    },
    {
      "cell_type": "code",
      "source": [
        "# prompt: generate a code to Use loc to extract sales data for a specific date or range of dates.\n",
        "\n",
        "# Assuming 'data' DataFrame from the previous code block is available\n",
        "# If 'data' is not available, load it here:\n",
        "import pandas as pd\n",
        "data = pd.read_csv(\"/content/retail_sales_dataset.csv\")\n",
        "data['Date'] = pd.to_datetime(data['Date'])\n",
        "data = data.set_index('Date')\n",
        "\n",
        "# Extract sales data for a specific date (e.g., 2023-11-24)\n",
        "# This assumes the date '2023-11-24' exists in your DataFrame\n",
        "specific_date_sales = data.loc['2023-11-24']\n",
        "print(\"Sales data for 2023-11-24:\\n\", specific_date_sales)\n",
        "\n",
        "# Extract sales data for a range of dates (e.g., from 2023-11-20 to 2023-11-25)\n",
        "# Replace with a valid date range from your data.\n",
        "#You can check the range by printing data.index\n",
        "# Instead of using .loc directly with a string slice, use boolean indexing:\n",
        "date_range_sales = data[(data.index >= '2023-11-20') & (data.index <= '2023-11-25')]\n",
        "print(\"\\nSales data from 2023-11-20 to 2023-11-25:\\n\", date_range_sales)"
      ],
      "metadata": {
        "colab": {
          "base_uri": "https://localhost:8080/"
        },
        "id": "OjzkHt3uaYUV",
        "outputId": "f3b7f2ac-7b19-45e7-f31a-e4b8fd5151ac"
      },
      "execution_count": 20,
      "outputs": [
        {
          "output_type": "stream",
          "name": "stdout",
          "text": [
            "Sales data for 2023-11-24:\n",
            "             Transaction ID Customer ID  Gender  Age Product Category  \\\n",
            "Date                                                                   \n",
            "2023-11-24               1     CUST001    Male   34           Beauty   \n",
            "2023-11-24              95     CUST095  Female   32         Clothing   \n",
            "2023-11-24             171     CUST171  Female   52         Clothing   \n",
            "\n",
            "            Quantity  Price per Unit  Total Amount  \n",
            "Date                                                \n",
            "2023-11-24         3              50           150  \n",
            "2023-11-24         2              30            60  \n",
            "2023-11-24         3             300           900  \n",
            "\n",
            "Sales data from 2023-11-20 to 2023-11-25:\n",
            "             Transaction ID Customer ID  Gender  Age Product Category  \\\n",
            "Date                                                                   \n",
            "2023-11-24               1     CUST001    Male   34           Beauty   \n",
            "2023-11-22              74     CUST074  Female   18           Beauty   \n",
            "2023-11-22              87     CUST087  Female   28           Beauty   \n",
            "2023-11-24              95     CUST095  Female   32         Clothing   \n",
            "2023-11-25             156     CUST156  Female   43         Clothing   \n",
            "2023-11-24             171     CUST171  Female   52         Clothing   \n",
            "2023-11-20             234     CUST234  Female   62      Electronics   \n",
            "2023-11-21             410     CUST410  Female   29         Clothing   \n",
            "2023-11-21             417     CUST417    Male   43      Electronics   \n",
            "2023-11-23             424     CUST424    Male   57           Beauty   \n",
            "2023-11-25             493     CUST493    Male   41           Beauty   \n",
            "2023-11-21             581     CUST581  Female   48           Beauty   \n",
            "2023-11-23             641     CUST641  Female   40      Electronics   \n",
            "2023-11-22             803     CUST803    Male   39         Clothing   \n",
            "2023-11-23             918     CUST918  Female   42      Electronics   \n",
            "\n",
            "            Quantity  Price per Unit  Total Amount  \n",
            "Date                                                \n",
            "2023-11-24         3              50           150  \n",
            "2023-11-22         4             500          2000  \n",
            "2023-11-22         2              50           100  \n",
            "2023-11-24         2              30            60  \n",
            "2023-11-25         4              25           100  \n",
            "2023-11-24         3             300           900  \n",
            "2023-11-20         2              25            50  \n",
            "2023-11-21         2              50           100  \n",
            "2023-11-21         3             300           900  \n",
            "2023-11-23         4             300          1200  \n",
            "2023-11-25         2              25            50  \n",
            "2023-11-21         2              30            60  \n",
            "2023-11-23         1             300           300  \n",
            "2023-11-22         4              25           100  \n",
            "2023-11-23         3              30            90  \n"
          ]
        }
      ]
    },
    {
      "cell_type": "markdown",
      "source": [
        "b) Use iloc to extract the first 10 rows of the dataset."
      ],
      "metadata": {
        "id": "1TUU1gX5bRMQ"
      }
    },
    {
      "cell_type": "code",
      "source": [
        "# prompt: generate a code to Use iloc to extract the first 10 rows of the dataset.\n",
        "\n",
        "# Assuming 'data' DataFrame from the previous code block is available\n",
        "# If 'data' is not available, load it here:\n",
        "data = pd.read_csv(\"/content/retail_sales_dataset.csv\")\n",
        "\n",
        "# Use iloc to extract the first 10 rows\n",
        "first_10_rows = data.iloc[:10]  # or data.iloc[0:10]\n",
        "\n",
        "# Display the first 10 rows\n",
        "first_10_rows\n"
      ],
      "metadata": {
        "colab": {
          "base_uri": "https://localhost:8080/",
          "height": 363
        },
        "id": "38zO3-mebXWU",
        "outputId": "f469e877-beda-43d7-d211-bfbd1e65ab0f"
      },
      "execution_count": 23,
      "outputs": [
        {
          "output_type": "execute_result",
          "data": {
            "text/plain": [
              "   Transaction ID        Date Customer ID  Gender  Age Product Category  \\\n",
              "0               1  2023-11-24     CUST001    Male   34           Beauty   \n",
              "1               2  2023-02-27     CUST002  Female   26         Clothing   \n",
              "2               3  2023-01-13     CUST003    Male   50      Electronics   \n",
              "3               4  2023-05-21     CUST004    Male   37         Clothing   \n",
              "4               5  2023-05-06     CUST005    Male   30           Beauty   \n",
              "5               6  2023-04-25     CUST006  Female   45           Beauty   \n",
              "6               7  2023-03-13     CUST007    Male   46         Clothing   \n",
              "7               8  2023-02-22     CUST008    Male   30      Electronics   \n",
              "8               9  2023-12-13     CUST009    Male   63      Electronics   \n",
              "9              10  2023-10-07     CUST010  Female   52         Clothing   \n",
              "\n",
              "   Quantity  Price per Unit  Total Amount  \n",
              "0         3              50           150  \n",
              "1         2             500          1000  \n",
              "2         1              30            30  \n",
              "3         1             500           500  \n",
              "4         2              50           100  \n",
              "5         1              30            30  \n",
              "6         2              25            50  \n",
              "7         4              25           100  \n",
              "8         2             300           600  \n",
              "9         4              50           200  "
            ],
            "text/html": [
              "\n",
              "  <div id=\"df-37f5e664-8412-4f28-9b3e-ac879ffe1238\" class=\"colab-df-container\">\n",
              "    <div>\n",
              "<style scoped>\n",
              "    .dataframe tbody tr th:only-of-type {\n",
              "        vertical-align: middle;\n",
              "    }\n",
              "\n",
              "    .dataframe tbody tr th {\n",
              "        vertical-align: top;\n",
              "    }\n",
              "\n",
              "    .dataframe thead th {\n",
              "        text-align: right;\n",
              "    }\n",
              "</style>\n",
              "<table border=\"1\" class=\"dataframe\">\n",
              "  <thead>\n",
              "    <tr style=\"text-align: right;\">\n",
              "      <th></th>\n",
              "      <th>Transaction ID</th>\n",
              "      <th>Date</th>\n",
              "      <th>Customer ID</th>\n",
              "      <th>Gender</th>\n",
              "      <th>Age</th>\n",
              "      <th>Product Category</th>\n",
              "      <th>Quantity</th>\n",
              "      <th>Price per Unit</th>\n",
              "      <th>Total Amount</th>\n",
              "    </tr>\n",
              "  </thead>\n",
              "  <tbody>\n",
              "    <tr>\n",
              "      <th>0</th>\n",
              "      <td>1</td>\n",
              "      <td>2023-11-24</td>\n",
              "      <td>CUST001</td>\n",
              "      <td>Male</td>\n",
              "      <td>34</td>\n",
              "      <td>Beauty</td>\n",
              "      <td>3</td>\n",
              "      <td>50</td>\n",
              "      <td>150</td>\n",
              "    </tr>\n",
              "    <tr>\n",
              "      <th>1</th>\n",
              "      <td>2</td>\n",
              "      <td>2023-02-27</td>\n",
              "      <td>CUST002</td>\n",
              "      <td>Female</td>\n",
              "      <td>26</td>\n",
              "      <td>Clothing</td>\n",
              "      <td>2</td>\n",
              "      <td>500</td>\n",
              "      <td>1000</td>\n",
              "    </tr>\n",
              "    <tr>\n",
              "      <th>2</th>\n",
              "      <td>3</td>\n",
              "      <td>2023-01-13</td>\n",
              "      <td>CUST003</td>\n",
              "      <td>Male</td>\n",
              "      <td>50</td>\n",
              "      <td>Electronics</td>\n",
              "      <td>1</td>\n",
              "      <td>30</td>\n",
              "      <td>30</td>\n",
              "    </tr>\n",
              "    <tr>\n",
              "      <th>3</th>\n",
              "      <td>4</td>\n",
              "      <td>2023-05-21</td>\n",
              "      <td>CUST004</td>\n",
              "      <td>Male</td>\n",
              "      <td>37</td>\n",
              "      <td>Clothing</td>\n",
              "      <td>1</td>\n",
              "      <td>500</td>\n",
              "      <td>500</td>\n",
              "    </tr>\n",
              "    <tr>\n",
              "      <th>4</th>\n",
              "      <td>5</td>\n",
              "      <td>2023-05-06</td>\n",
              "      <td>CUST005</td>\n",
              "      <td>Male</td>\n",
              "      <td>30</td>\n",
              "      <td>Beauty</td>\n",
              "      <td>2</td>\n",
              "      <td>50</td>\n",
              "      <td>100</td>\n",
              "    </tr>\n",
              "    <tr>\n",
              "      <th>5</th>\n",
              "      <td>6</td>\n",
              "      <td>2023-04-25</td>\n",
              "      <td>CUST006</td>\n",
              "      <td>Female</td>\n",
              "      <td>45</td>\n",
              "      <td>Beauty</td>\n",
              "      <td>1</td>\n",
              "      <td>30</td>\n",
              "      <td>30</td>\n",
              "    </tr>\n",
              "    <tr>\n",
              "      <th>6</th>\n",
              "      <td>7</td>\n",
              "      <td>2023-03-13</td>\n",
              "      <td>CUST007</td>\n",
              "      <td>Male</td>\n",
              "      <td>46</td>\n",
              "      <td>Clothing</td>\n",
              "      <td>2</td>\n",
              "      <td>25</td>\n",
              "      <td>50</td>\n",
              "    </tr>\n",
              "    <tr>\n",
              "      <th>7</th>\n",
              "      <td>8</td>\n",
              "      <td>2023-02-22</td>\n",
              "      <td>CUST008</td>\n",
              "      <td>Male</td>\n",
              "      <td>30</td>\n",
              "      <td>Electronics</td>\n",
              "      <td>4</td>\n",
              "      <td>25</td>\n",
              "      <td>100</td>\n",
              "    </tr>\n",
              "    <tr>\n",
              "      <th>8</th>\n",
              "      <td>9</td>\n",
              "      <td>2023-12-13</td>\n",
              "      <td>CUST009</td>\n",
              "      <td>Male</td>\n",
              "      <td>63</td>\n",
              "      <td>Electronics</td>\n",
              "      <td>2</td>\n",
              "      <td>300</td>\n",
              "      <td>600</td>\n",
              "    </tr>\n",
              "    <tr>\n",
              "      <th>9</th>\n",
              "      <td>10</td>\n",
              "      <td>2023-10-07</td>\n",
              "      <td>CUST010</td>\n",
              "      <td>Female</td>\n",
              "      <td>52</td>\n",
              "      <td>Clothing</td>\n",
              "      <td>4</td>\n",
              "      <td>50</td>\n",
              "      <td>200</td>\n",
              "    </tr>\n",
              "  </tbody>\n",
              "</table>\n",
              "</div>\n",
              "    <div class=\"colab-df-buttons\">\n",
              "\n",
              "  <div class=\"colab-df-container\">\n",
              "    <button class=\"colab-df-convert\" onclick=\"convertToInteractive('df-37f5e664-8412-4f28-9b3e-ac879ffe1238')\"\n",
              "            title=\"Convert this dataframe to an interactive table.\"\n",
              "            style=\"display:none;\">\n",
              "\n",
              "  <svg xmlns=\"http://www.w3.org/2000/svg\" height=\"24px\" viewBox=\"0 -960 960 960\">\n",
              "    <path d=\"M120-120v-720h720v720H120Zm60-500h600v-160H180v160Zm220 220h160v-160H400v160Zm0 220h160v-160H400v160ZM180-400h160v-160H180v160Zm440 0h160v-160H620v160ZM180-180h160v-160H180v160Zm440 0h160v-160H620v160Z\"/>\n",
              "  </svg>\n",
              "    </button>\n",
              "\n",
              "  <style>\n",
              "    .colab-df-container {\n",
              "      display:flex;\n",
              "      gap: 12px;\n",
              "    }\n",
              "\n",
              "    .colab-df-convert {\n",
              "      background-color: #E8F0FE;\n",
              "      border: none;\n",
              "      border-radius: 50%;\n",
              "      cursor: pointer;\n",
              "      display: none;\n",
              "      fill: #1967D2;\n",
              "      height: 32px;\n",
              "      padding: 0 0 0 0;\n",
              "      width: 32px;\n",
              "    }\n",
              "\n",
              "    .colab-df-convert:hover {\n",
              "      background-color: #E2EBFA;\n",
              "      box-shadow: 0px 1px 2px rgba(60, 64, 67, 0.3), 0px 1px 3px 1px rgba(60, 64, 67, 0.15);\n",
              "      fill: #174EA6;\n",
              "    }\n",
              "\n",
              "    .colab-df-buttons div {\n",
              "      margin-bottom: 4px;\n",
              "    }\n",
              "\n",
              "    [theme=dark] .colab-df-convert {\n",
              "      background-color: #3B4455;\n",
              "      fill: #D2E3FC;\n",
              "    }\n",
              "\n",
              "    [theme=dark] .colab-df-convert:hover {\n",
              "      background-color: #434B5C;\n",
              "      box-shadow: 0px 1px 3px 1px rgba(0, 0, 0, 0.15);\n",
              "      filter: drop-shadow(0px 1px 2px rgba(0, 0, 0, 0.3));\n",
              "      fill: #FFFFFF;\n",
              "    }\n",
              "  </style>\n",
              "\n",
              "    <script>\n",
              "      const buttonEl =\n",
              "        document.querySelector('#df-37f5e664-8412-4f28-9b3e-ac879ffe1238 button.colab-df-convert');\n",
              "      buttonEl.style.display =\n",
              "        google.colab.kernel.accessAllowed ? 'block' : 'none';\n",
              "\n",
              "      async function convertToInteractive(key) {\n",
              "        const element = document.querySelector('#df-37f5e664-8412-4f28-9b3e-ac879ffe1238');\n",
              "        const dataTable =\n",
              "          await google.colab.kernel.invokeFunction('convertToInteractive',\n",
              "                                                    [key], {});\n",
              "        if (!dataTable) return;\n",
              "\n",
              "        const docLinkHtml = 'Like what you see? Visit the ' +\n",
              "          '<a target=\"_blank\" href=https://colab.research.google.com/notebooks/data_table.ipynb>data table notebook</a>'\n",
              "          + ' to learn more about interactive tables.';\n",
              "        element.innerHTML = '';\n",
              "        dataTable['output_type'] = 'display_data';\n",
              "        await google.colab.output.renderOutput(dataTable, element);\n",
              "        const docLink = document.createElement('div');\n",
              "        docLink.innerHTML = docLinkHtml;\n",
              "        element.appendChild(docLink);\n",
              "      }\n",
              "    </script>\n",
              "  </div>\n",
              "\n",
              "\n",
              "<div id=\"df-c9f3db5a-c4f8-4bfa-9479-081056dddb3a\">\n",
              "  <button class=\"colab-df-quickchart\" onclick=\"quickchart('df-c9f3db5a-c4f8-4bfa-9479-081056dddb3a')\"\n",
              "            title=\"Suggest charts\"\n",
              "            style=\"display:none;\">\n",
              "\n",
              "<svg xmlns=\"http://www.w3.org/2000/svg\" height=\"24px\"viewBox=\"0 0 24 24\"\n",
              "     width=\"24px\">\n",
              "    <g>\n",
              "        <path d=\"M19 3H5c-1.1 0-2 .9-2 2v14c0 1.1.9 2 2 2h14c1.1 0 2-.9 2-2V5c0-1.1-.9-2-2-2zM9 17H7v-7h2v7zm4 0h-2V7h2v10zm4 0h-2v-4h2v4z\"/>\n",
              "    </g>\n",
              "</svg>\n",
              "  </button>\n",
              "\n",
              "<style>\n",
              "  .colab-df-quickchart {\n",
              "      --bg-color: #E8F0FE;\n",
              "      --fill-color: #1967D2;\n",
              "      --hover-bg-color: #E2EBFA;\n",
              "      --hover-fill-color: #174EA6;\n",
              "      --disabled-fill-color: #AAA;\n",
              "      --disabled-bg-color: #DDD;\n",
              "  }\n",
              "\n",
              "  [theme=dark] .colab-df-quickchart {\n",
              "      --bg-color: #3B4455;\n",
              "      --fill-color: #D2E3FC;\n",
              "      --hover-bg-color: #434B5C;\n",
              "      --hover-fill-color: #FFFFFF;\n",
              "      --disabled-bg-color: #3B4455;\n",
              "      --disabled-fill-color: #666;\n",
              "  }\n",
              "\n",
              "  .colab-df-quickchart {\n",
              "    background-color: var(--bg-color);\n",
              "    border: none;\n",
              "    border-radius: 50%;\n",
              "    cursor: pointer;\n",
              "    display: none;\n",
              "    fill: var(--fill-color);\n",
              "    height: 32px;\n",
              "    padding: 0;\n",
              "    width: 32px;\n",
              "  }\n",
              "\n",
              "  .colab-df-quickchart:hover {\n",
              "    background-color: var(--hover-bg-color);\n",
              "    box-shadow: 0 1px 2px rgba(60, 64, 67, 0.3), 0 1px 3px 1px rgba(60, 64, 67, 0.15);\n",
              "    fill: var(--button-hover-fill-color);\n",
              "  }\n",
              "\n",
              "  .colab-df-quickchart-complete:disabled,\n",
              "  .colab-df-quickchart-complete:disabled:hover {\n",
              "    background-color: var(--disabled-bg-color);\n",
              "    fill: var(--disabled-fill-color);\n",
              "    box-shadow: none;\n",
              "  }\n",
              "\n",
              "  .colab-df-spinner {\n",
              "    border: 2px solid var(--fill-color);\n",
              "    border-color: transparent;\n",
              "    border-bottom-color: var(--fill-color);\n",
              "    animation:\n",
              "      spin 1s steps(1) infinite;\n",
              "  }\n",
              "\n",
              "  @keyframes spin {\n",
              "    0% {\n",
              "      border-color: transparent;\n",
              "      border-bottom-color: var(--fill-color);\n",
              "      border-left-color: var(--fill-color);\n",
              "    }\n",
              "    20% {\n",
              "      border-color: transparent;\n",
              "      border-left-color: var(--fill-color);\n",
              "      border-top-color: var(--fill-color);\n",
              "    }\n",
              "    30% {\n",
              "      border-color: transparent;\n",
              "      border-left-color: var(--fill-color);\n",
              "      border-top-color: var(--fill-color);\n",
              "      border-right-color: var(--fill-color);\n",
              "    }\n",
              "    40% {\n",
              "      border-color: transparent;\n",
              "      border-right-color: var(--fill-color);\n",
              "      border-top-color: var(--fill-color);\n",
              "    }\n",
              "    60% {\n",
              "      border-color: transparent;\n",
              "      border-right-color: var(--fill-color);\n",
              "    }\n",
              "    80% {\n",
              "      border-color: transparent;\n",
              "      border-right-color: var(--fill-color);\n",
              "      border-bottom-color: var(--fill-color);\n",
              "    }\n",
              "    90% {\n",
              "      border-color: transparent;\n",
              "      border-bottom-color: var(--fill-color);\n",
              "    }\n",
              "  }\n",
              "</style>\n",
              "\n",
              "  <script>\n",
              "    async function quickchart(key) {\n",
              "      const quickchartButtonEl =\n",
              "        document.querySelector('#' + key + ' button');\n",
              "      quickchartButtonEl.disabled = true;  // To prevent multiple clicks.\n",
              "      quickchartButtonEl.classList.add('colab-df-spinner');\n",
              "      try {\n",
              "        const charts = await google.colab.kernel.invokeFunction(\n",
              "            'suggestCharts', [key], {});\n",
              "      } catch (error) {\n",
              "        console.error('Error during call to suggestCharts:', error);\n",
              "      }\n",
              "      quickchartButtonEl.classList.remove('colab-df-spinner');\n",
              "      quickchartButtonEl.classList.add('colab-df-quickchart-complete');\n",
              "    }\n",
              "    (() => {\n",
              "      let quickchartButtonEl =\n",
              "        document.querySelector('#df-c9f3db5a-c4f8-4bfa-9479-081056dddb3a button');\n",
              "      quickchartButtonEl.style.display =\n",
              "        google.colab.kernel.accessAllowed ? 'block' : 'none';\n",
              "    })();\n",
              "  </script>\n",
              "</div>\n",
              "\n",
              "  <div id=\"id_a5fa87df-ebfe-4058-a382-e60aa95804de\">\n",
              "    <style>\n",
              "      .colab-df-generate {\n",
              "        background-color: #E8F0FE;\n",
              "        border: none;\n",
              "        border-radius: 50%;\n",
              "        cursor: pointer;\n",
              "        display: none;\n",
              "        fill: #1967D2;\n",
              "        height: 32px;\n",
              "        padding: 0 0 0 0;\n",
              "        width: 32px;\n",
              "      }\n",
              "\n",
              "      .colab-df-generate:hover {\n",
              "        background-color: #E2EBFA;\n",
              "        box-shadow: 0px 1px 2px rgba(60, 64, 67, 0.3), 0px 1px 3px 1px rgba(60, 64, 67, 0.15);\n",
              "        fill: #174EA6;\n",
              "      }\n",
              "\n",
              "      [theme=dark] .colab-df-generate {\n",
              "        background-color: #3B4455;\n",
              "        fill: #D2E3FC;\n",
              "      }\n",
              "\n",
              "      [theme=dark] .colab-df-generate:hover {\n",
              "        background-color: #434B5C;\n",
              "        box-shadow: 0px 1px 3px 1px rgba(0, 0, 0, 0.15);\n",
              "        filter: drop-shadow(0px 1px 2px rgba(0, 0, 0, 0.3));\n",
              "        fill: #FFFFFF;\n",
              "      }\n",
              "    </style>\n",
              "    <button class=\"colab-df-generate\" onclick=\"generateWithVariable('first_10_rows')\"\n",
              "            title=\"Generate code using this dataframe.\"\n",
              "            style=\"display:none;\">\n",
              "\n",
              "  <svg xmlns=\"http://www.w3.org/2000/svg\" height=\"24px\"viewBox=\"0 0 24 24\"\n",
              "       width=\"24px\">\n",
              "    <path d=\"M7,19H8.4L18.45,9,17,7.55,7,17.6ZM5,21V16.75L18.45,3.32a2,2,0,0,1,2.83,0l1.4,1.43a1.91,1.91,0,0,1,.58,1.4,1.91,1.91,0,0,1-.58,1.4L9.25,21ZM18.45,9,17,7.55Zm-12,3A5.31,5.31,0,0,0,4.9,8.1,5.31,5.31,0,0,0,1,6.5,5.31,5.31,0,0,0,4.9,4.9,5.31,5.31,0,0,0,6.5,1,5.31,5.31,0,0,0,8.1,4.9,5.31,5.31,0,0,0,12,6.5,5.46,5.46,0,0,0,6.5,12Z\"/>\n",
              "  </svg>\n",
              "    </button>\n",
              "    <script>\n",
              "      (() => {\n",
              "      const buttonEl =\n",
              "        document.querySelector('#id_a5fa87df-ebfe-4058-a382-e60aa95804de button.colab-df-generate');\n",
              "      buttonEl.style.display =\n",
              "        google.colab.kernel.accessAllowed ? 'block' : 'none';\n",
              "\n",
              "      buttonEl.onclick = () => {\n",
              "        google.colab.notebook.generateWithVariable('first_10_rows');\n",
              "      }\n",
              "      })();\n",
              "    </script>\n",
              "  </div>\n",
              "\n",
              "    </div>\n",
              "  </div>\n"
            ],
            "application/vnd.google.colaboratory.intrinsic+json": {
              "type": "dataframe",
              "variable_name": "first_10_rows",
              "summary": "{\n  \"name\": \"first_10_rows\",\n  \"rows\": 10,\n  \"fields\": [\n    {\n      \"column\": \"Transaction ID\",\n      \"properties\": {\n        \"dtype\": \"number\",\n        \"std\": 3,\n        \"min\": 1,\n        \"max\": 10,\n        \"num_unique_values\": 10,\n        \"samples\": [\n          9,\n          2,\n          6\n        ],\n        \"semantic_type\": \"\",\n        \"description\": \"\"\n      }\n    },\n    {\n      \"column\": \"Date\",\n      \"properties\": {\n        \"dtype\": \"object\",\n        \"num_unique_values\": 10,\n        \"samples\": [\n          \"2023-12-13\",\n          \"2023-02-27\",\n          \"2023-04-25\"\n        ],\n        \"semantic_type\": \"\",\n        \"description\": \"\"\n      }\n    },\n    {\n      \"column\": \"Customer ID\",\n      \"properties\": {\n        \"dtype\": \"string\",\n        \"num_unique_values\": 10,\n        \"samples\": [\n          \"CUST009\",\n          \"CUST002\",\n          \"CUST006\"\n        ],\n        \"semantic_type\": \"\",\n        \"description\": \"\"\n      }\n    },\n    {\n      \"column\": \"Gender\",\n      \"properties\": {\n        \"dtype\": \"category\",\n        \"num_unique_values\": 2,\n        \"samples\": [\n          \"Female\",\n          \"Male\"\n        ],\n        \"semantic_type\": \"\",\n        \"description\": \"\"\n      }\n    },\n    {\n      \"column\": \"Age\",\n      \"properties\": {\n        \"dtype\": \"number\",\n        \"std\": 11,\n        \"min\": 26,\n        \"max\": 63,\n        \"num_unique_values\": 9,\n        \"samples\": [\n          63,\n          26\n        ],\n        \"semantic_type\": \"\",\n        \"description\": \"\"\n      }\n    },\n    {\n      \"column\": \"Product Category\",\n      \"properties\": {\n        \"dtype\": \"category\",\n        \"num_unique_values\": 3,\n        \"samples\": [\n          \"Beauty\",\n          \"Clothing\"\n        ],\n        \"semantic_type\": \"\",\n        \"description\": \"\"\n      }\n    },\n    {\n      \"column\": \"Quantity\",\n      \"properties\": {\n        \"dtype\": \"number\",\n        \"std\": 1,\n        \"min\": 1,\n        \"max\": 4,\n        \"num_unique_values\": 4,\n        \"samples\": [\n          2,\n          4\n        ],\n        \"semantic_type\": \"\",\n        \"description\": \"\"\n      }\n    },\n    {\n      \"column\": \"Price per Unit\",\n      \"properties\": {\n        \"dtype\": \"number\",\n        \"std\": 199,\n        \"min\": 25,\n        \"max\": 500,\n        \"num_unique_values\": 5,\n        \"samples\": [\n          500,\n          300\n        ],\n        \"semantic_type\": \"\",\n        \"description\": \"\"\n      }\n    },\n    {\n      \"column\": \"Total Amount\",\n      \"properties\": {\n        \"dtype\": \"number\",\n        \"std\": 322,\n        \"min\": 30,\n        \"max\": 1000,\n        \"num_unique_values\": 8,\n        \"samples\": [\n          1000,\n          50\n        ],\n        \"semantic_type\": \"\",\n        \"description\": \"\"\n      }\n    }\n  ]\n}"
            }
          },
          "metadata": {},
          "execution_count": 23
        }
      ]
    },
    {
      "cell_type": "markdown",
      "source": [
        "c) Drop a column (e.g., Region) using drop(axis=1)."
      ],
      "metadata": {
        "id": "diztwvvIbutd"
      }
    },
    {
      "cell_type": "code",
      "source": [
        "# prompt: generate a ocde to Drop a column (e.g., Region) using drop(axis=1).\n",
        "\n",
        "# Assuming 'data' DataFrame from the previous code block is available\n",
        "# If 'data' is not available, load it here:\n",
        "data = pd.read_csv(\"/content/retail_sales_dataset.csv\")\n",
        "\n",
        "# Drop the 'Region' column if it exists\n",
        "if 'Region' in data.columns:\n",
        "    data = data.drop('Region', axis=1)\n",
        "\n",
        "# Display the updated DataFrame\n",
        "print(data.head())\n"
      ],
      "metadata": {
        "colab": {
          "base_uri": "https://localhost:8080/"
        },
        "id": "y526l_4dby0k",
        "outputId": "bb4ab667-91ae-4633-87c0-2ad2a4f17cfa"
      },
      "execution_count": 24,
      "outputs": [
        {
          "output_type": "stream",
          "name": "stdout",
          "text": [
            "   Transaction ID        Date Customer ID  Gender  Age Product Category  \\\n",
            "0               1  2023-11-24     CUST001    Male   34           Beauty   \n",
            "1               2  2023-02-27     CUST002  Female   26         Clothing   \n",
            "2               3  2023-01-13     CUST003    Male   50      Electronics   \n",
            "3               4  2023-05-21     CUST004    Male   37         Clothing   \n",
            "4               5  2023-05-06     CUST005    Male   30           Beauty   \n",
            "\n",
            "   Quantity  Price per Unit  Total Amount  \n",
            "0         3              50           150  \n",
            "1         2             500          1000  \n",
            "2         1              30            30  \n",
            "3         1             500           500  \n",
            "4         2              50           100  \n"
          ]
        }
      ]
    },
    {
      "cell_type": "markdown",
      "source": [
        "d) Drop the first two rows using drop(axis=0)."
      ],
      "metadata": {
        "id": "RV0xdsOAcD_I"
      }
    },
    {
      "cell_type": "code",
      "source": [
        "# prompt: generate a code to Drop the first two rows using drop(axis=0).\n",
        "\n",
        "# Assuming 'data' DataFrame from the previous code block is available\n",
        "# If 'data' is not available, load it here:\n",
        "data = pd.read_csv(\"/content/retail_sales_dataset.csv\")\n",
        "\n",
        "# Drop the first two rows\n",
        "data = data.drop(index=range(2)) # or data.drop(data.index[:2])\n",
        "\n",
        "# Display the updated DataFrame\n",
        "print(data.head())\n"
      ],
      "metadata": {
        "colab": {
          "base_uri": "https://localhost:8080/"
        },
        "id": "V0-HIz5QcGJ7",
        "outputId": "51b60fcb-71e2-4b2a-809f-c096769def58"
      },
      "execution_count": 25,
      "outputs": [
        {
          "output_type": "stream",
          "name": "stdout",
          "text": [
            "   Transaction ID        Date Customer ID  Gender  Age Product Category  \\\n",
            "2               3  2023-01-13     CUST003    Male   50      Electronics   \n",
            "3               4  2023-05-21     CUST004    Male   37         Clothing   \n",
            "4               5  2023-05-06     CUST005    Male   30           Beauty   \n",
            "5               6  2023-04-25     CUST006  Female   45           Beauty   \n",
            "6               7  2023-03-13     CUST007    Male   46         Clothing   \n",
            "\n",
            "   Quantity  Price per Unit  Total Amount  \n",
            "2         1              30            30  \n",
            "3         1             500           500  \n",
            "4         2              50           100  \n",
            "5         1              30            30  \n",
            "6         2              25            50  \n"
          ]
        }
      ]
    },
    {
      "cell_type": "markdown",
      "source": [
        "# Deliverables:\n",
        "*  Code and results for each operation."
      ],
      "metadata": {
        "id": "zTQm_LiYcy15"
      }
    },
    {
      "cell_type": "code",
      "source": [
        "# prompt:  Code and results for each operation\n",
        "\n",
        "import pandas as pd\n",
        "import matplotlib.pyplot as plt\n",
        "import seaborn as sns\n",
        "\n",
        "# Assuming 'data' DataFrame is available from the previous code block.\n",
        "# If not, load it here:\n",
        "try:\n",
        "    data\n",
        "except NameError:\n",
        "    data = pd.read_csv(\"/content/retail_sales_dataset.csv\")\n",
        "\n",
        "# b) Identify the most frequently purchased product category.\n",
        "most_frequent_category = data['Product Category'].mode()[0]\n",
        "print(f\"The most frequently purchased product category is: {most_frequent_category}\")\n",
        "\n",
        "# c) Find the region contributing the most to sales.\n",
        "# Using 'Product Category' as a proxy for 'Region' since 'Region' is not in the dataset.\n",
        "region_sales = data.groupby('Product Category')['Total Amount'].sum()\n",
        "highest_sales_region = region_sales.idxmax()\n",
        "highest_sales_amount = region_sales.max()\n",
        "\n",
        "print(f\"The product category contributing the most to sales is: {highest_sales_region}\")\n",
        "print(f\"Total sales from this category: {highest_sales_amount}\")\n",
        "\n",
        "# ... (rest of the provided code) ...\n"
      ],
      "metadata": {
        "colab": {
          "base_uri": "https://localhost:8080/"
        },
        "id": "UQ9P7wegc5f9",
        "outputId": "af83e758-4812-4db0-b086-2786048b0f3b"
      },
      "execution_count": 29,
      "outputs": [
        {
          "output_type": "stream",
          "name": "stdout",
          "text": [
            "The most frequently purchased product category is: Clothing\n",
            "The product category contributing the most to sales is: Electronics\n",
            "Total sales from this category: 156905\n"
          ]
        }
      ]
    },
    {
      "cell_type": "markdown",
      "source": [
        "* Explanation of when to use loc vs iloc."
      ],
      "metadata": {
        "id": "qkzTQz29dXGc"
      }
    },
    {
      "cell_type": "code",
      "source": [
        "# prompt: without code Explanation of when to use loc vs iloc.\n",
        "\n",
        "Use `loc` when you want to select data based on *labels* (index and column names).  Use `iloc` when you want to select data based on *integer positions* (row and column numbers).\n"
      ],
      "metadata": {
        "id": "W8oY5Z1Zdbu1"
      },
      "execution_count": null,
      "outputs": []
    }
  ]
}